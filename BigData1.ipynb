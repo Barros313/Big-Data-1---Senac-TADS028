{
  "nbformat": 4,
  "nbformat_minor": 0,
  "metadata": {
    "colab": {
      "provenance": [],
      "authorship_tag": "ABX9TyOGAkZVHZD0ZRDIdzVWQnz4",
      "include_colab_link": true
    },
    "kernelspec": {
      "name": "python3",
      "display_name": "Python 3"
    },
    "language_info": {
      "name": "python"
    }
  },
  "cells": [
    {
      "cell_type": "markdown",
      "metadata": {
        "id": "view-in-github",
        "colab_type": "text"
      },
      "source": [
        "<a href=\"https://colab.research.google.com/github/Barros313/Big-Data-1---Senac-TADS028/blob/main/BigData1.ipynb\" target=\"_parent\"><img src=\"https://colab.research.google.com/assets/colab-badge.svg\" alt=\"Open In Colab\"/></a>"
      ]
    },
    {
      "cell_type": "markdown",
      "source": [
        "# Criação do Banco de Dados\n",
        "\n",
        "Importação de bibliotecas externas e criação de função para fazer o banco de dados em SQL a partir de banco de dados em CSV"
      ],
      "metadata": {
        "id": "rhAyEBNU87Tp"
      }
    },
    {
      "cell_type": "code",
      "source": [
        "import requests\n",
        "import sqlite3\n",
        "import pandas as pd\n",
        "\n",
        "def create_infracoes_database():\n",
        "  url = 'http://dados.recife.pe.gov.br/api/3/action/datastore_search?resource_id=c269789d-da47-4dde-8ce7-42fba10fe8e2&limit=470000'\n",
        "\n",
        "  response = requests.get(url)\n",
        "  data = response.json()\n",
        "\n",
        "  if 'result' in data and 'records' in data['result']:\n",
        "    infracoes = data['result']['records']\n",
        "  else:\n",
        "    print(\"Erro: não foi possível obter dados da API\")\n",
        "    return\n",
        "\n",
        "  conn = sqlite3.connect('infracoes.db')\n",
        "  c = conn.cursor()\n",
        "\n",
        "  c.execute('''\n",
        "    CREATE TABLE IF NOT EXISTS infracoes (\n",
        "      id INTEGER PRIMARY KEY AUTOINCREMENT,\n",
        "      datainfracao DATE,\n",
        "      horainfracao TIMESTAMP,\n",
        "      dataimplantacao DATETIME,\n",
        "      agenteequipamento TEXT,\n",
        "      infracao INT,\n",
        "      descricaoinfracao TEXT,\n",
        "      amparolegal TEXT,\n",
        "      localcometimento TEXT\n",
        "    )\n",
        "  ''')\n",
        "\n",
        "  for infracao in infracoes:\n",
        "    c.execute('''\n",
        "      INSERT INTO infracoes (\n",
        "        datainfracao,\n",
        "        horainfracao,\n",
        "        dataimplantacao,\n",
        "        agenteequipamento,\n",
        "        infracao,\n",
        "        descricaoinfracao,\n",
        "        amparolegal,\n",
        "        localcometimento)\n",
        "      VALUES (?, ?, ?, ?, ?, ?, ?, ?);\n",
        "    ''', (\n",
        "        infracao.get(\"datainfracao\", \"\"),\n",
        "        infracao.get(\"horainfracao\", \"\"),\n",
        "        infracao.get(\"dataimplantacao\", \"\"),\n",
        "        infracao.get(\"agenteequipamento\", \"\"),\n",
        "        infracao.get(\"infracao\", 0),\n",
        "        infracao.get(\"descricaoinfracao\", \"\"),\n",
        "        infracao.get(\"amparolegal\", \"\"),\n",
        "        infracao.get(\"localcometimento\", \"\")\n",
        "        ))\n",
        "\n",
        "  conn.commit()\n",
        "  conn.close()\n",
        "\n",
        "create_infracoes_database()\n",
        "\n"
      ],
      "metadata": {
        "id": "cSrTcwI8xHP1"
      },
      "execution_count": 1,
      "outputs": []
    },
    {
      "cell_type": "markdown",
      "source": [
        "# Consulta geral\n",
        "\n",
        "Consultando tabela única (infrações) do banco de dados"
      ],
      "metadata": {
        "id": "9sRR-3FN9W9E"
      }
    },
    {
      "cell_type": "code",
      "source": [
        "connection = sqlite3.connect('infracoes.db')\n",
        "\n",
        "pd.read_sql(\"SELECT * FROM infracoes;\", connection, index_col=[\"id\"])"
      ],
      "metadata": {
        "colab": {
          "base_uri": "https://localhost:8080/",
          "height": 628
        },
        "id": "RYvO6PSVSvzs",
        "outputId": "7eb6b145-a6c8-4523-984c-896debf1f101"
      },
      "execution_count": 2,
      "outputs": [
        {
          "output_type": "execute_result",
          "data": {
            "text/plain": [
              "               datainfracao horainfracao      dataimplantacao  \\\n",
              "id                                                              \n",
              "1       2023-01-01T00:00:00     00:01:00  2023-01-06T00:00:00   \n",
              "2       2023-01-01T00:00:00     00:27:00  2023-01-06T00:00:00   \n",
              "3       2023-01-01T00:00:00     00:27:00  2023-01-06T00:00:00   \n",
              "4       2023-01-01T00:00:00     00:52:00  2023-01-06T00:00:00   \n",
              "5       2023-01-01T00:00:00     00:52:00  2023-01-06T00:00:00   \n",
              "...                     ...          ...                  ...   \n",
              "459709  2023-11-30T00:00:00     21:48:51  2023-12-06T00:00:00   \n",
              "459710  2023-11-30T00:00:00     21:51:48  2023-12-06T00:00:00   \n",
              "459711  2023-11-30T00:00:00     21:59:00  2023-12-11T00:00:00   \n",
              "459712  2023-11-30T00:00:00     22:00:00  2023-12-11T00:00:00   \n",
              "459713  2023-11-30T00:00:00     22:18:00  2023-12-11T00:00:00   \n",
              "\n",
              "                            agenteequipamento  infracao  \\\n",
              "id                                                        \n",
              "1        Código 8 - AUTOS NO TALÃO ELETRÔNICO      7234   \n",
              "2        Código 8 - AUTOS NO TALÃO ELETRÔNICO      5835   \n",
              "3        Código 8 - AUTOS NO TALÃO ELETRÔNICO      5215   \n",
              "4        Código 8 - AUTOS NO TALÃO ELETRÔNICO      5550   \n",
              "5        Código 8 - AUTOS NO TALÃO ELETRÔNICO      5550   \n",
              "...                                       ...       ...   \n",
              "459709                 Código 5 - FOTO SENSOR      5746   \n",
              "459710                 Código 5 - FOTO SENSOR      5746   \n",
              "459711  Código 7 - ZONA AZUL TALÃO ELETRÔNICO      5541   \n",
              "459712  Código 7 - ZONA AZUL TALÃO ELETRÔNICO      5541   \n",
              "459713   Código 8 - AUTOS NO TALÃO ELETRÔNICO      5568   \n",
              "\n",
              "                                        descricaoinfracao  \\\n",
              "id                                                          \n",
              "1       Quando o veículo estiver em movimento deixar d...   \n",
              "2       Desobedecer às ordens emanadas da autoridade c...   \n",
              "3       Dirigir ameaçando os pedestres que estejam atr...   \n",
              "4       Estacionar o veículo em locais e horários proi...   \n",
              "5       Estacionar o veículo em locais e horários proi...   \n",
              "...                                                   ...   \n",
              "459709  Transitar em locais e horários não permitidos ...   \n",
              "459710  Transitar em locais e horários não permitidos ...   \n",
              "459711  Estacionar o veículo em desacordo com as condi...   \n",
              "459712  Estacionar o veículo em desacordo com as condi...   \n",
              "459713  Estacionar o veículo em locais e horários de e...   \n",
              "\n",
              "                       amparolegal  \\\n",
              "id                                   \n",
              "1       Art. 250, Inc. I, alínea a   \n",
              "2                         Art. 195   \n",
              "3                         Art. 170   \n",
              "4             Art. 181, Inc. XVIII   \n",
              "5             Art. 181, Inc. XVIII   \n",
              "...                            ...   \n",
              "459709            Art. 187, Inc. I   \n",
              "459710            Art. 187, Inc. I   \n",
              "459711         Art. 181, Inc. XVII   \n",
              "459712         Art. 181, Inc. XVII   \n",
              "459713          Art. 181, Inc. XIX   \n",
              "\n",
              "                                         localcometimento  \n",
              "id                                                         \n",
              "1             RUA RIBEIRO DE BRITO, SOB O SEMAFORO N. 155  \n",
              "2       RUA DOS NAVEGANTES, CRUZAMENTO COM A RUA PADRE...  \n",
              "3       RUA DOS NAVEGANTES, CRUZAMENTO COM A RUA PADRE...  \n",
              "4       AVENIDA ENGENHEIRO DOMINGOS FERREIRA, EM FRENT...  \n",
              "5       AVENIDA ENGENHEIRO DOMINGOS FERREIRA, EM FRENT...  \n",
              "...                                                   ...  \n",
              "459709  AV. CDE. DA BOA VISTA, SEMAFORO 486, Sentido:C...  \n",
              "459710  AV. CDE. DA BOA VISTA, SEMAFORO 486, Sentido:C...  \n",
              "459711              PRACA DO DERBY, LADO OPOSTO AO N. 149  \n",
              "459712              PRACA DO DERBY, LADO OPOSTO AO N. 149  \n",
              "459713  RUA GUARARAPES INFRAERO, EM FRENTE AO EDIFICIO...  \n",
              "\n",
              "[459713 rows x 8 columns]"
            ],
            "text/html": [
              "\n",
              "  <div id=\"df-5bbd9b56-b5aa-4f4c-a90a-3472d011cb18\" class=\"colab-df-container\">\n",
              "    <div>\n",
              "<style scoped>\n",
              "    .dataframe tbody tr th:only-of-type {\n",
              "        vertical-align: middle;\n",
              "    }\n",
              "\n",
              "    .dataframe tbody tr th {\n",
              "        vertical-align: top;\n",
              "    }\n",
              "\n",
              "    .dataframe thead th {\n",
              "        text-align: right;\n",
              "    }\n",
              "</style>\n",
              "<table border=\"1\" class=\"dataframe\">\n",
              "  <thead>\n",
              "    <tr style=\"text-align: right;\">\n",
              "      <th></th>\n",
              "      <th>datainfracao</th>\n",
              "      <th>horainfracao</th>\n",
              "      <th>dataimplantacao</th>\n",
              "      <th>agenteequipamento</th>\n",
              "      <th>infracao</th>\n",
              "      <th>descricaoinfracao</th>\n",
              "      <th>amparolegal</th>\n",
              "      <th>localcometimento</th>\n",
              "    </tr>\n",
              "    <tr>\n",
              "      <th>id</th>\n",
              "      <th></th>\n",
              "      <th></th>\n",
              "      <th></th>\n",
              "      <th></th>\n",
              "      <th></th>\n",
              "      <th></th>\n",
              "      <th></th>\n",
              "      <th></th>\n",
              "    </tr>\n",
              "  </thead>\n",
              "  <tbody>\n",
              "    <tr>\n",
              "      <th>1</th>\n",
              "      <td>2023-01-01T00:00:00</td>\n",
              "      <td>00:01:00</td>\n",
              "      <td>2023-01-06T00:00:00</td>\n",
              "      <td>Código 8 - AUTOS NO TALÃO ELETRÔNICO</td>\n",
              "      <td>7234</td>\n",
              "      <td>Quando o veículo estiver em movimento deixar d...</td>\n",
              "      <td>Art. 250, Inc. I, alínea a</td>\n",
              "      <td>RUA RIBEIRO DE BRITO, SOB O SEMAFORO N. 155</td>\n",
              "    </tr>\n",
              "    <tr>\n",
              "      <th>2</th>\n",
              "      <td>2023-01-01T00:00:00</td>\n",
              "      <td>00:27:00</td>\n",
              "      <td>2023-01-06T00:00:00</td>\n",
              "      <td>Código 8 - AUTOS NO TALÃO ELETRÔNICO</td>\n",
              "      <td>5835</td>\n",
              "      <td>Desobedecer às ordens emanadas da autoridade c...</td>\n",
              "      <td>Art. 195</td>\n",
              "      <td>RUA DOS NAVEGANTES, CRUZAMENTO COM A RUA PADRE...</td>\n",
              "    </tr>\n",
              "    <tr>\n",
              "      <th>3</th>\n",
              "      <td>2023-01-01T00:00:00</td>\n",
              "      <td>00:27:00</td>\n",
              "      <td>2023-01-06T00:00:00</td>\n",
              "      <td>Código 8 - AUTOS NO TALÃO ELETRÔNICO</td>\n",
              "      <td>5215</td>\n",
              "      <td>Dirigir ameaçando os pedestres que estejam atr...</td>\n",
              "      <td>Art. 170</td>\n",
              "      <td>RUA DOS NAVEGANTES, CRUZAMENTO COM A RUA PADRE...</td>\n",
              "    </tr>\n",
              "    <tr>\n",
              "      <th>4</th>\n",
              "      <td>2023-01-01T00:00:00</td>\n",
              "      <td>00:52:00</td>\n",
              "      <td>2023-01-06T00:00:00</td>\n",
              "      <td>Código 8 - AUTOS NO TALÃO ELETRÔNICO</td>\n",
              "      <td>5550</td>\n",
              "      <td>Estacionar o veículo em locais e horários proi...</td>\n",
              "      <td>Art. 181, Inc. XVIII</td>\n",
              "      <td>AVENIDA ENGENHEIRO DOMINGOS FERREIRA, EM FRENT...</td>\n",
              "    </tr>\n",
              "    <tr>\n",
              "      <th>5</th>\n",
              "      <td>2023-01-01T00:00:00</td>\n",
              "      <td>00:52:00</td>\n",
              "      <td>2023-01-06T00:00:00</td>\n",
              "      <td>Código 8 - AUTOS NO TALÃO ELETRÔNICO</td>\n",
              "      <td>5550</td>\n",
              "      <td>Estacionar o veículo em locais e horários proi...</td>\n",
              "      <td>Art. 181, Inc. XVIII</td>\n",
              "      <td>AVENIDA ENGENHEIRO DOMINGOS FERREIRA, EM FRENT...</td>\n",
              "    </tr>\n",
              "    <tr>\n",
              "      <th>...</th>\n",
              "      <td>...</td>\n",
              "      <td>...</td>\n",
              "      <td>...</td>\n",
              "      <td>...</td>\n",
              "      <td>...</td>\n",
              "      <td>...</td>\n",
              "      <td>...</td>\n",
              "      <td>...</td>\n",
              "    </tr>\n",
              "    <tr>\n",
              "      <th>459709</th>\n",
              "      <td>2023-11-30T00:00:00</td>\n",
              "      <td>21:48:51</td>\n",
              "      <td>2023-12-06T00:00:00</td>\n",
              "      <td>Código 5 - FOTO SENSOR</td>\n",
              "      <td>5746</td>\n",
              "      <td>Transitar em locais e horários não permitidos ...</td>\n",
              "      <td>Art. 187, Inc. I</td>\n",
              "      <td>AV. CDE. DA BOA VISTA, SEMAFORO 486, Sentido:C...</td>\n",
              "    </tr>\n",
              "    <tr>\n",
              "      <th>459710</th>\n",
              "      <td>2023-11-30T00:00:00</td>\n",
              "      <td>21:51:48</td>\n",
              "      <td>2023-12-06T00:00:00</td>\n",
              "      <td>Código 5 - FOTO SENSOR</td>\n",
              "      <td>5746</td>\n",
              "      <td>Transitar em locais e horários não permitidos ...</td>\n",
              "      <td>Art. 187, Inc. I</td>\n",
              "      <td>AV. CDE. DA BOA VISTA, SEMAFORO 486, Sentido:C...</td>\n",
              "    </tr>\n",
              "    <tr>\n",
              "      <th>459711</th>\n",
              "      <td>2023-11-30T00:00:00</td>\n",
              "      <td>21:59:00</td>\n",
              "      <td>2023-12-11T00:00:00</td>\n",
              "      <td>Código 7 - ZONA AZUL TALÃO ELETRÔNICO</td>\n",
              "      <td>5541</td>\n",
              "      <td>Estacionar o veículo em desacordo com as condi...</td>\n",
              "      <td>Art. 181, Inc. XVII</td>\n",
              "      <td>PRACA DO DERBY, LADO OPOSTO AO N. 149</td>\n",
              "    </tr>\n",
              "    <tr>\n",
              "      <th>459712</th>\n",
              "      <td>2023-11-30T00:00:00</td>\n",
              "      <td>22:00:00</td>\n",
              "      <td>2023-12-11T00:00:00</td>\n",
              "      <td>Código 7 - ZONA AZUL TALÃO ELETRÔNICO</td>\n",
              "      <td>5541</td>\n",
              "      <td>Estacionar o veículo em desacordo com as condi...</td>\n",
              "      <td>Art. 181, Inc. XVII</td>\n",
              "      <td>PRACA DO DERBY, LADO OPOSTO AO N. 149</td>\n",
              "    </tr>\n",
              "    <tr>\n",
              "      <th>459713</th>\n",
              "      <td>2023-11-30T00:00:00</td>\n",
              "      <td>22:18:00</td>\n",
              "      <td>2023-12-11T00:00:00</td>\n",
              "      <td>Código 8 - AUTOS NO TALÃO ELETRÔNICO</td>\n",
              "      <td>5568</td>\n",
              "      <td>Estacionar o veículo em locais e horários de e...</td>\n",
              "      <td>Art. 181, Inc. XIX</td>\n",
              "      <td>RUA GUARARAPES INFRAERO, EM FRENTE AO EDIFICIO...</td>\n",
              "    </tr>\n",
              "  </tbody>\n",
              "</table>\n",
              "<p>459713 rows × 8 columns</p>\n",
              "</div>\n",
              "    <div class=\"colab-df-buttons\">\n",
              "\n",
              "  <div class=\"colab-df-container\">\n",
              "    <button class=\"colab-df-convert\" onclick=\"convertToInteractive('df-5bbd9b56-b5aa-4f4c-a90a-3472d011cb18')\"\n",
              "            title=\"Convert this dataframe to an interactive table.\"\n",
              "            style=\"display:none;\">\n",
              "\n",
              "  <svg xmlns=\"http://www.w3.org/2000/svg\" height=\"24px\" viewBox=\"0 -960 960 960\">\n",
              "    <path d=\"M120-120v-720h720v720H120Zm60-500h600v-160H180v160Zm220 220h160v-160H400v160Zm0 220h160v-160H400v160ZM180-400h160v-160H180v160Zm440 0h160v-160H620v160ZM180-180h160v-160H180v160Zm440 0h160v-160H620v160Z\"/>\n",
              "  </svg>\n",
              "    </button>\n",
              "\n",
              "  <style>\n",
              "    .colab-df-container {\n",
              "      display:flex;\n",
              "      gap: 12px;\n",
              "    }\n",
              "\n",
              "    .colab-df-convert {\n",
              "      background-color: #E8F0FE;\n",
              "      border: none;\n",
              "      border-radius: 50%;\n",
              "      cursor: pointer;\n",
              "      display: none;\n",
              "      fill: #1967D2;\n",
              "      height: 32px;\n",
              "      padding: 0 0 0 0;\n",
              "      width: 32px;\n",
              "    }\n",
              "\n",
              "    .colab-df-convert:hover {\n",
              "      background-color: #E2EBFA;\n",
              "      box-shadow: 0px 1px 2px rgba(60, 64, 67, 0.3), 0px 1px 3px 1px rgba(60, 64, 67, 0.15);\n",
              "      fill: #174EA6;\n",
              "    }\n",
              "\n",
              "    .colab-df-buttons div {\n",
              "      margin-bottom: 4px;\n",
              "    }\n",
              "\n",
              "    [theme=dark] .colab-df-convert {\n",
              "      background-color: #3B4455;\n",
              "      fill: #D2E3FC;\n",
              "    }\n",
              "\n",
              "    [theme=dark] .colab-df-convert:hover {\n",
              "      background-color: #434B5C;\n",
              "      box-shadow: 0px 1px 3px 1px rgba(0, 0, 0, 0.15);\n",
              "      filter: drop-shadow(0px 1px 2px rgba(0, 0, 0, 0.3));\n",
              "      fill: #FFFFFF;\n",
              "    }\n",
              "  </style>\n",
              "\n",
              "    <script>\n",
              "      const buttonEl =\n",
              "        document.querySelector('#df-5bbd9b56-b5aa-4f4c-a90a-3472d011cb18 button.colab-df-convert');\n",
              "      buttonEl.style.display =\n",
              "        google.colab.kernel.accessAllowed ? 'block' : 'none';\n",
              "\n",
              "      async function convertToInteractive(key) {\n",
              "        const element = document.querySelector('#df-5bbd9b56-b5aa-4f4c-a90a-3472d011cb18');\n",
              "        const dataTable =\n",
              "          await google.colab.kernel.invokeFunction('convertToInteractive',\n",
              "                                                    [key], {});\n",
              "        if (!dataTable) return;\n",
              "\n",
              "        const docLinkHtml = 'Like what you see? Visit the ' +\n",
              "          '<a target=\"_blank\" href=https://colab.research.google.com/notebooks/data_table.ipynb>data table notebook</a>'\n",
              "          + ' to learn more about interactive tables.';\n",
              "        element.innerHTML = '';\n",
              "        dataTable['output_type'] = 'display_data';\n",
              "        await google.colab.output.renderOutput(dataTable, element);\n",
              "        const docLink = document.createElement('div');\n",
              "        docLink.innerHTML = docLinkHtml;\n",
              "        element.appendChild(docLink);\n",
              "      }\n",
              "    </script>\n",
              "  </div>\n",
              "\n",
              "\n",
              "<div id=\"df-f8d51594-3c3a-4f04-a709-1e5fba943122\">\n",
              "  <button class=\"colab-df-quickchart\" onclick=\"quickchart('df-f8d51594-3c3a-4f04-a709-1e5fba943122')\"\n",
              "            title=\"Suggest charts\"\n",
              "            style=\"display:none;\">\n",
              "\n",
              "<svg xmlns=\"http://www.w3.org/2000/svg\" height=\"24px\"viewBox=\"0 0 24 24\"\n",
              "     width=\"24px\">\n",
              "    <g>\n",
              "        <path d=\"M19 3H5c-1.1 0-2 .9-2 2v14c0 1.1.9 2 2 2h14c1.1 0 2-.9 2-2V5c0-1.1-.9-2-2-2zM9 17H7v-7h2v7zm4 0h-2V7h2v10zm4 0h-2v-4h2v4z\"/>\n",
              "    </g>\n",
              "</svg>\n",
              "  </button>\n",
              "\n",
              "<style>\n",
              "  .colab-df-quickchart {\n",
              "      --bg-color: #E8F0FE;\n",
              "      --fill-color: #1967D2;\n",
              "      --hover-bg-color: #E2EBFA;\n",
              "      --hover-fill-color: #174EA6;\n",
              "      --disabled-fill-color: #AAA;\n",
              "      --disabled-bg-color: #DDD;\n",
              "  }\n",
              "\n",
              "  [theme=dark] .colab-df-quickchart {\n",
              "      --bg-color: #3B4455;\n",
              "      --fill-color: #D2E3FC;\n",
              "      --hover-bg-color: #434B5C;\n",
              "      --hover-fill-color: #FFFFFF;\n",
              "      --disabled-bg-color: #3B4455;\n",
              "      --disabled-fill-color: #666;\n",
              "  }\n",
              "\n",
              "  .colab-df-quickchart {\n",
              "    background-color: var(--bg-color);\n",
              "    border: none;\n",
              "    border-radius: 50%;\n",
              "    cursor: pointer;\n",
              "    display: none;\n",
              "    fill: var(--fill-color);\n",
              "    height: 32px;\n",
              "    padding: 0;\n",
              "    width: 32px;\n",
              "  }\n",
              "\n",
              "  .colab-df-quickchart:hover {\n",
              "    background-color: var(--hover-bg-color);\n",
              "    box-shadow: 0 1px 2px rgba(60, 64, 67, 0.3), 0 1px 3px 1px rgba(60, 64, 67, 0.15);\n",
              "    fill: var(--button-hover-fill-color);\n",
              "  }\n",
              "\n",
              "  .colab-df-quickchart-complete:disabled,\n",
              "  .colab-df-quickchart-complete:disabled:hover {\n",
              "    background-color: var(--disabled-bg-color);\n",
              "    fill: var(--disabled-fill-color);\n",
              "    box-shadow: none;\n",
              "  }\n",
              "\n",
              "  .colab-df-spinner {\n",
              "    border: 2px solid var(--fill-color);\n",
              "    border-color: transparent;\n",
              "    border-bottom-color: var(--fill-color);\n",
              "    animation:\n",
              "      spin 1s steps(1) infinite;\n",
              "  }\n",
              "\n",
              "  @keyframes spin {\n",
              "    0% {\n",
              "      border-color: transparent;\n",
              "      border-bottom-color: var(--fill-color);\n",
              "      border-left-color: var(--fill-color);\n",
              "    }\n",
              "    20% {\n",
              "      border-color: transparent;\n",
              "      border-left-color: var(--fill-color);\n",
              "      border-top-color: var(--fill-color);\n",
              "    }\n",
              "    30% {\n",
              "      border-color: transparent;\n",
              "      border-left-color: var(--fill-color);\n",
              "      border-top-color: var(--fill-color);\n",
              "      border-right-color: var(--fill-color);\n",
              "    }\n",
              "    40% {\n",
              "      border-color: transparent;\n",
              "      border-right-color: var(--fill-color);\n",
              "      border-top-color: var(--fill-color);\n",
              "    }\n",
              "    60% {\n",
              "      border-color: transparent;\n",
              "      border-right-color: var(--fill-color);\n",
              "    }\n",
              "    80% {\n",
              "      border-color: transparent;\n",
              "      border-right-color: var(--fill-color);\n",
              "      border-bottom-color: var(--fill-color);\n",
              "    }\n",
              "    90% {\n",
              "      border-color: transparent;\n",
              "      border-bottom-color: var(--fill-color);\n",
              "    }\n",
              "  }\n",
              "</style>\n",
              "\n",
              "  <script>\n",
              "    async function quickchart(key) {\n",
              "      const quickchartButtonEl =\n",
              "        document.querySelector('#' + key + ' button');\n",
              "      quickchartButtonEl.disabled = true;  // To prevent multiple clicks.\n",
              "      quickchartButtonEl.classList.add('colab-df-spinner');\n",
              "      try {\n",
              "        const charts = await google.colab.kernel.invokeFunction(\n",
              "            'suggestCharts', [key], {});\n",
              "      } catch (error) {\n",
              "        console.error('Error during call to suggestCharts:', error);\n",
              "      }\n",
              "      quickchartButtonEl.classList.remove('colab-df-spinner');\n",
              "      quickchartButtonEl.classList.add('colab-df-quickchart-complete');\n",
              "    }\n",
              "    (() => {\n",
              "      let quickchartButtonEl =\n",
              "        document.querySelector('#df-f8d51594-3c3a-4f04-a709-1e5fba943122 button');\n",
              "      quickchartButtonEl.style.display =\n",
              "        google.colab.kernel.accessAllowed ? 'block' : 'none';\n",
              "    })();\n",
              "  </script>\n",
              "</div>\n",
              "\n",
              "    </div>\n",
              "  </div>\n"
            ],
            "application/vnd.google.colaboratory.intrinsic+json": {
              "type": "dataframe"
            }
          },
          "metadata": {},
          "execution_count": 2
        }
      ]
    },
    {
      "cell_type": "markdown",
      "source": [
        "# SQL Query\n",
        "\n",
        "Função de select geral para utilizar no pandas"
      ],
      "metadata": {
        "id": "_mYwxNXk9fDV"
      }
    },
    {
      "cell_type": "code",
      "source": [
        "infra = pd.read_sql_query(\"SELECT * FROM infracoes;\", connection)"
      ],
      "metadata": {
        "id": "EePs6UTi9g-w"
      },
      "execution_count": 3,
      "outputs": []
    },
    {
      "cell_type": "markdown",
      "source": [
        "# Características da Tabela\n",
        "\n"
      ],
      "metadata": {
        "id": "O1ySqI6FBsV3"
      }
    },
    {
      "cell_type": "markdown",
      "source": [
        "### Informações\n",
        "\n",
        "Informa se valores há valores nulos, o tipo da célula e o nome das colunas\n"
      ],
      "metadata": {
        "id": "-RQSzkoMrH6k"
      }
    },
    {
      "cell_type": "markdown",
      "source": [
        "|Output|Descrição|\n",
        "|---|---|\n",
        "|count|Quantidade de Registros|\n",
        "|mean|Média|\n",
        "|std|Desvio Padrão|\n",
        "|min|Valor mínimo|\n",
        "|max|Valor máximo|\n",
        "|n%|Valor percentual em relação ao máximo|"
      ],
      "metadata": {
        "id": "5sFXC5xSzC_y"
      }
    },
    {
      "cell_type": "code",
      "source": [
        "infra.describe()"
      ],
      "metadata": {
        "colab": {
          "base_uri": "https://localhost:8080/",
          "height": 300
        },
        "id": "8dogme1aAQ-H",
        "outputId": "461f1326-0d82-4960-985d-001058b6c313"
      },
      "execution_count": 4,
      "outputs": [
        {
          "output_type": "execute_result",
          "data": {
            "text/plain": [
              "                  id       infracao\n",
              "count  459713.000000  459713.000000\n",
              "mean   229857.000000    6607.109107\n",
              "std    132707.856487     913.657366\n",
              "min         1.000000    5010.000000\n",
              "25%    114929.000000    5550.000000\n",
              "50%    229857.000000    7234.000000\n",
              "75%    344785.000000    7455.000000\n",
              "max    459713.000000    7765.000000"
            ],
            "text/html": [
              "\n",
              "  <div id=\"df-a1c2f43f-54c7-467f-a70a-4514fc2fdef6\" class=\"colab-df-container\">\n",
              "    <div>\n",
              "<style scoped>\n",
              "    .dataframe tbody tr th:only-of-type {\n",
              "        vertical-align: middle;\n",
              "    }\n",
              "\n",
              "    .dataframe tbody tr th {\n",
              "        vertical-align: top;\n",
              "    }\n",
              "\n",
              "    .dataframe thead th {\n",
              "        text-align: right;\n",
              "    }\n",
              "</style>\n",
              "<table border=\"1\" class=\"dataframe\">\n",
              "  <thead>\n",
              "    <tr style=\"text-align: right;\">\n",
              "      <th></th>\n",
              "      <th>id</th>\n",
              "      <th>infracao</th>\n",
              "    </tr>\n",
              "  </thead>\n",
              "  <tbody>\n",
              "    <tr>\n",
              "      <th>count</th>\n",
              "      <td>459713.000000</td>\n",
              "      <td>459713.000000</td>\n",
              "    </tr>\n",
              "    <tr>\n",
              "      <th>mean</th>\n",
              "      <td>229857.000000</td>\n",
              "      <td>6607.109107</td>\n",
              "    </tr>\n",
              "    <tr>\n",
              "      <th>std</th>\n",
              "      <td>132707.856487</td>\n",
              "      <td>913.657366</td>\n",
              "    </tr>\n",
              "    <tr>\n",
              "      <th>min</th>\n",
              "      <td>1.000000</td>\n",
              "      <td>5010.000000</td>\n",
              "    </tr>\n",
              "    <tr>\n",
              "      <th>25%</th>\n",
              "      <td>114929.000000</td>\n",
              "      <td>5550.000000</td>\n",
              "    </tr>\n",
              "    <tr>\n",
              "      <th>50%</th>\n",
              "      <td>229857.000000</td>\n",
              "      <td>7234.000000</td>\n",
              "    </tr>\n",
              "    <tr>\n",
              "      <th>75%</th>\n",
              "      <td>344785.000000</td>\n",
              "      <td>7455.000000</td>\n",
              "    </tr>\n",
              "    <tr>\n",
              "      <th>max</th>\n",
              "      <td>459713.000000</td>\n",
              "      <td>7765.000000</td>\n",
              "    </tr>\n",
              "  </tbody>\n",
              "</table>\n",
              "</div>\n",
              "    <div class=\"colab-df-buttons\">\n",
              "\n",
              "  <div class=\"colab-df-container\">\n",
              "    <button class=\"colab-df-convert\" onclick=\"convertToInteractive('df-a1c2f43f-54c7-467f-a70a-4514fc2fdef6')\"\n",
              "            title=\"Convert this dataframe to an interactive table.\"\n",
              "            style=\"display:none;\">\n",
              "\n",
              "  <svg xmlns=\"http://www.w3.org/2000/svg\" height=\"24px\" viewBox=\"0 -960 960 960\">\n",
              "    <path d=\"M120-120v-720h720v720H120Zm60-500h600v-160H180v160Zm220 220h160v-160H400v160Zm0 220h160v-160H400v160ZM180-400h160v-160H180v160Zm440 0h160v-160H620v160ZM180-180h160v-160H180v160Zm440 0h160v-160H620v160Z\"/>\n",
              "  </svg>\n",
              "    </button>\n",
              "\n",
              "  <style>\n",
              "    .colab-df-container {\n",
              "      display:flex;\n",
              "      gap: 12px;\n",
              "    }\n",
              "\n",
              "    .colab-df-convert {\n",
              "      background-color: #E8F0FE;\n",
              "      border: none;\n",
              "      border-radius: 50%;\n",
              "      cursor: pointer;\n",
              "      display: none;\n",
              "      fill: #1967D2;\n",
              "      height: 32px;\n",
              "      padding: 0 0 0 0;\n",
              "      width: 32px;\n",
              "    }\n",
              "\n",
              "    .colab-df-convert:hover {\n",
              "      background-color: #E2EBFA;\n",
              "      box-shadow: 0px 1px 2px rgba(60, 64, 67, 0.3), 0px 1px 3px 1px rgba(60, 64, 67, 0.15);\n",
              "      fill: #174EA6;\n",
              "    }\n",
              "\n",
              "    .colab-df-buttons div {\n",
              "      margin-bottom: 4px;\n",
              "    }\n",
              "\n",
              "    [theme=dark] .colab-df-convert {\n",
              "      background-color: #3B4455;\n",
              "      fill: #D2E3FC;\n",
              "    }\n",
              "\n",
              "    [theme=dark] .colab-df-convert:hover {\n",
              "      background-color: #434B5C;\n",
              "      box-shadow: 0px 1px 3px 1px rgba(0, 0, 0, 0.15);\n",
              "      filter: drop-shadow(0px 1px 2px rgba(0, 0, 0, 0.3));\n",
              "      fill: #FFFFFF;\n",
              "    }\n",
              "  </style>\n",
              "\n",
              "    <script>\n",
              "      const buttonEl =\n",
              "        document.querySelector('#df-a1c2f43f-54c7-467f-a70a-4514fc2fdef6 button.colab-df-convert');\n",
              "      buttonEl.style.display =\n",
              "        google.colab.kernel.accessAllowed ? 'block' : 'none';\n",
              "\n",
              "      async function convertToInteractive(key) {\n",
              "        const element = document.querySelector('#df-a1c2f43f-54c7-467f-a70a-4514fc2fdef6');\n",
              "        const dataTable =\n",
              "          await google.colab.kernel.invokeFunction('convertToInteractive',\n",
              "                                                    [key], {});\n",
              "        if (!dataTable) return;\n",
              "\n",
              "        const docLinkHtml = 'Like what you see? Visit the ' +\n",
              "          '<a target=\"_blank\" href=https://colab.research.google.com/notebooks/data_table.ipynb>data table notebook</a>'\n",
              "          + ' to learn more about interactive tables.';\n",
              "        element.innerHTML = '';\n",
              "        dataTable['output_type'] = 'display_data';\n",
              "        await google.colab.output.renderOutput(dataTable, element);\n",
              "        const docLink = document.createElement('div');\n",
              "        docLink.innerHTML = docLinkHtml;\n",
              "        element.appendChild(docLink);\n",
              "      }\n",
              "    </script>\n",
              "  </div>\n",
              "\n",
              "\n",
              "<div id=\"df-f842576c-8a90-4fc2-a3a5-6eb2abb79e17\">\n",
              "  <button class=\"colab-df-quickchart\" onclick=\"quickchart('df-f842576c-8a90-4fc2-a3a5-6eb2abb79e17')\"\n",
              "            title=\"Suggest charts\"\n",
              "            style=\"display:none;\">\n",
              "\n",
              "<svg xmlns=\"http://www.w3.org/2000/svg\" height=\"24px\"viewBox=\"0 0 24 24\"\n",
              "     width=\"24px\">\n",
              "    <g>\n",
              "        <path d=\"M19 3H5c-1.1 0-2 .9-2 2v14c0 1.1.9 2 2 2h14c1.1 0 2-.9 2-2V5c0-1.1-.9-2-2-2zM9 17H7v-7h2v7zm4 0h-2V7h2v10zm4 0h-2v-4h2v4z\"/>\n",
              "    </g>\n",
              "</svg>\n",
              "  </button>\n",
              "\n",
              "<style>\n",
              "  .colab-df-quickchart {\n",
              "      --bg-color: #E8F0FE;\n",
              "      --fill-color: #1967D2;\n",
              "      --hover-bg-color: #E2EBFA;\n",
              "      --hover-fill-color: #174EA6;\n",
              "      --disabled-fill-color: #AAA;\n",
              "      --disabled-bg-color: #DDD;\n",
              "  }\n",
              "\n",
              "  [theme=dark] .colab-df-quickchart {\n",
              "      --bg-color: #3B4455;\n",
              "      --fill-color: #D2E3FC;\n",
              "      --hover-bg-color: #434B5C;\n",
              "      --hover-fill-color: #FFFFFF;\n",
              "      --disabled-bg-color: #3B4455;\n",
              "      --disabled-fill-color: #666;\n",
              "  }\n",
              "\n",
              "  .colab-df-quickchart {\n",
              "    background-color: var(--bg-color);\n",
              "    border: none;\n",
              "    border-radius: 50%;\n",
              "    cursor: pointer;\n",
              "    display: none;\n",
              "    fill: var(--fill-color);\n",
              "    height: 32px;\n",
              "    padding: 0;\n",
              "    width: 32px;\n",
              "  }\n",
              "\n",
              "  .colab-df-quickchart:hover {\n",
              "    background-color: var(--hover-bg-color);\n",
              "    box-shadow: 0 1px 2px rgba(60, 64, 67, 0.3), 0 1px 3px 1px rgba(60, 64, 67, 0.15);\n",
              "    fill: var(--button-hover-fill-color);\n",
              "  }\n",
              "\n",
              "  .colab-df-quickchart-complete:disabled,\n",
              "  .colab-df-quickchart-complete:disabled:hover {\n",
              "    background-color: var(--disabled-bg-color);\n",
              "    fill: var(--disabled-fill-color);\n",
              "    box-shadow: none;\n",
              "  }\n",
              "\n",
              "  .colab-df-spinner {\n",
              "    border: 2px solid var(--fill-color);\n",
              "    border-color: transparent;\n",
              "    border-bottom-color: var(--fill-color);\n",
              "    animation:\n",
              "      spin 1s steps(1) infinite;\n",
              "  }\n",
              "\n",
              "  @keyframes spin {\n",
              "    0% {\n",
              "      border-color: transparent;\n",
              "      border-bottom-color: var(--fill-color);\n",
              "      border-left-color: var(--fill-color);\n",
              "    }\n",
              "    20% {\n",
              "      border-color: transparent;\n",
              "      border-left-color: var(--fill-color);\n",
              "      border-top-color: var(--fill-color);\n",
              "    }\n",
              "    30% {\n",
              "      border-color: transparent;\n",
              "      border-left-color: var(--fill-color);\n",
              "      border-top-color: var(--fill-color);\n",
              "      border-right-color: var(--fill-color);\n",
              "    }\n",
              "    40% {\n",
              "      border-color: transparent;\n",
              "      border-right-color: var(--fill-color);\n",
              "      border-top-color: var(--fill-color);\n",
              "    }\n",
              "    60% {\n",
              "      border-color: transparent;\n",
              "      border-right-color: var(--fill-color);\n",
              "    }\n",
              "    80% {\n",
              "      border-color: transparent;\n",
              "      border-right-color: var(--fill-color);\n",
              "      border-bottom-color: var(--fill-color);\n",
              "    }\n",
              "    90% {\n",
              "      border-color: transparent;\n",
              "      border-bottom-color: var(--fill-color);\n",
              "    }\n",
              "  }\n",
              "</style>\n",
              "\n",
              "  <script>\n",
              "    async function quickchart(key) {\n",
              "      const quickchartButtonEl =\n",
              "        document.querySelector('#' + key + ' button');\n",
              "      quickchartButtonEl.disabled = true;  // To prevent multiple clicks.\n",
              "      quickchartButtonEl.classList.add('colab-df-spinner');\n",
              "      try {\n",
              "        const charts = await google.colab.kernel.invokeFunction(\n",
              "            'suggestCharts', [key], {});\n",
              "      } catch (error) {\n",
              "        console.error('Error during call to suggestCharts:', error);\n",
              "      }\n",
              "      quickchartButtonEl.classList.remove('colab-df-spinner');\n",
              "      quickchartButtonEl.classList.add('colab-df-quickchart-complete');\n",
              "    }\n",
              "    (() => {\n",
              "      let quickchartButtonEl =\n",
              "        document.querySelector('#df-f842576c-8a90-4fc2-a3a5-6eb2abb79e17 button');\n",
              "      quickchartButtonEl.style.display =\n",
              "        google.colab.kernel.accessAllowed ? 'block' : 'none';\n",
              "    })();\n",
              "  </script>\n",
              "</div>\n",
              "\n",
              "    </div>\n",
              "  </div>\n"
            ],
            "application/vnd.google.colaboratory.intrinsic+json": {
              "type": "dataframe",
              "summary": "{\n  \"name\": \"infra\",\n  \"rows\": 8,\n  \"fields\": [\n    {\n      \"column\": \"id\",\n      \"properties\": {\n        \"dtype\": \"number\",\n        \"std\": 165682.4846080896,\n        \"min\": 1.0,\n        \"max\": 459713.0,\n        \"num_unique_values\": 6,\n        \"samples\": [\n          459713.0,\n          229857.0,\n          344785.0\n        ],\n        \"semantic_type\": \"\",\n        \"description\": \"\"\n      }\n    },\n    {\n      \"column\": \"infracao\",\n      \"properties\": {\n        \"dtype\": \"number\",\n        \"std\": 160500.84919797353,\n        \"min\": 913.6573657066309,\n        \"max\": 459713.0,\n        \"num_unique_values\": 8,\n        \"samples\": [\n          6607.1091072038425,\n          7234.0,\n          459713.0\n        ],\n        \"semantic_type\": \"\",\n        \"description\": \"\"\n      }\n    }\n  ]\n}"
            }
          },
          "metadata": {},
          "execution_count": 4
        }
      ]
    },
    {
      "cell_type": "code",
      "source": [
        "infra.info()"
      ],
      "metadata": {
        "colab": {
          "base_uri": "https://localhost:8080/"
        },
        "id": "PvlQzdxrfubK",
        "outputId": "aaa34904-098f-4164-d82f-92a0a42e80f2"
      },
      "execution_count": 6,
      "outputs": [
        {
          "output_type": "stream",
          "name": "stdout",
          "text": [
            "<class 'pandas.core.frame.DataFrame'>\n",
            "RangeIndex: 459713 entries, 0 to 459712\n",
            "Data columns (total 9 columns):\n",
            " #   Column             Non-Null Count   Dtype \n",
            "---  ------             --------------   ----- \n",
            " 0   id                 459713 non-null  int64 \n",
            " 1   datainfracao       459713 non-null  object\n",
            " 2   horainfracao       459713 non-null  object\n",
            " 3   dataimplantacao    459713 non-null  object\n",
            " 4   agenteequipamento  459713 non-null  object\n",
            " 5   infracao           459713 non-null  int64 \n",
            " 6   descricaoinfracao  459713 non-null  object\n",
            " 7   amparolegal        459713 non-null  object\n",
            " 8   localcometimento   459713 non-null  object\n",
            "dtypes: int64(2), object(7)\n",
            "memory usage: 31.6+ MB\n"
          ]
        }
      ]
    },
    {
      "cell_type": "markdown",
      "source": [
        "####Período de análise"
      ],
      "metadata": {
        "id": "ol6xNuTc3dMv"
      }
    },
    {
      "cell_type": "code",
      "source": [
        "primeiro_registro = pd.to_datetime(infra['datainfracao']).dt.date.min()\n",
        "print(\"Primeiro registro: \", primeiro_registro)\n",
        "\n",
        "ultimo_registro = pd.to_datetime(infra['datainfracao']).dt.date.max()\n",
        "print(\"Último registro: \", ultimo_registro)"
      ],
      "metadata": {
        "colab": {
          "base_uri": "https://localhost:8080/"
        },
        "id": "T49K3Om8mZHi",
        "outputId": "ee0877a9-7c2d-410c-8ee1-3e4b7e78f3ed"
      },
      "execution_count": 7,
      "outputs": [
        {
          "output_type": "stream",
          "name": "stdout",
          "text": [
            "Primeiro registro:  2023-01-01\n",
            "Último registro:  2023-11-30\n"
          ]
        }
      ]
    },
    {
      "cell_type": "markdown",
      "source": [
        "###Descrição de colunas"
      ],
      "metadata": {
        "id": "RhNsk8ZA4bzH"
      }
    },
    {
      "cell_type": "markdown",
      "source": [
        "Data da Infração"
      ],
      "metadata": {
        "id": "hDzp8WWX4hqW"
      }
    },
    {
      "cell_type": "code",
      "source": [
        "print(infra[\"datainfracao\"].describe())"
      ],
      "metadata": {
        "colab": {
          "base_uri": "https://localhost:8080/"
        },
        "id": "VQTXD6wH4hO3",
        "outputId": "6e697280-2638-48e1-97e5-5812f5911036"
      },
      "execution_count": 8,
      "outputs": [
        {
          "output_type": "stream",
          "name": "stdout",
          "text": [
            "count                  459713\n",
            "unique                    334\n",
            "top       2023-05-14T00:00:00\n",
            "freq                     2191\n",
            "Name: datainfracao, dtype: object\n"
          ]
        }
      ]
    },
    {
      "cell_type": "markdown",
      "source": [
        "Hora da Infração"
      ],
      "metadata": {
        "id": "ReKePrt65PBe"
      }
    },
    {
      "cell_type": "code",
      "source": [
        "print(infra[\"horainfracao\"].describe())"
      ],
      "metadata": {
        "colab": {
          "base_uri": "https://localhost:8080/"
        },
        "id": "jrwJCquG4Vu3",
        "outputId": "6d7d7f6b-e5de-40c3-e688-778bfd941f4b"
      },
      "execution_count": 9,
      "outputs": [
        {
          "output_type": "stream",
          "name": "stdout",
          "text": [
            "count       459713\n",
            "unique       56225\n",
            "top       15:00:00\n",
            "freq           803\n",
            "Name: horainfracao, dtype: object\n"
          ]
        }
      ]
    },
    {
      "cell_type": "markdown",
      "source": [
        "Data de Registro da Infração"
      ],
      "metadata": {
        "id": "U8qPaJQ15eIl"
      }
    },
    {
      "cell_type": "code",
      "source": [
        "print(infra[\"dataimplantacao\"].describe())"
      ],
      "metadata": {
        "colab": {
          "base_uri": "https://localhost:8080/"
        },
        "id": "iWwVHd1c5dYo",
        "outputId": "cf0cf2de-05ca-47fe-8123-5890b1e72c61"
      },
      "execution_count": 10,
      "outputs": [
        {
          "output_type": "stream",
          "name": "stdout",
          "text": [
            "count                  459713\n",
            "unique                    156\n",
            "top       2023-01-24T00:00:00\n",
            "freq                     9752\n",
            "Name: dataimplantacao, dtype: object\n"
          ]
        }
      ]
    },
    {
      "cell_type": "markdown",
      "source": [
        "Forma de autuação"
      ],
      "metadata": {
        "id": "hxufcE4f5uiA"
      }
    },
    {
      "cell_type": "code",
      "source": [
        "print(infra[\"agenteequipamento\"].describe())"
      ],
      "metadata": {
        "colab": {
          "base_uri": "https://localhost:8080/"
        },
        "id": "5wC6554R5oKw",
        "outputId": "86ddc736-96ae-4297-dab0-71b745c97b2e"
      },
      "execution_count": 11,
      "outputs": [
        {
          "output_type": "stream",
          "name": "stdout",
          "text": [
            "count                            459713\n",
            "unique                                6\n",
            "top       Código 3 - LOMBADA ELETRÔNICA\n",
            "freq                             150430\n",
            "Name: agenteequipamento, dtype: object\n"
          ]
        }
      ]
    },
    {
      "cell_type": "markdown",
      "source": [
        "Código da Infração"
      ],
      "metadata": {
        "id": "Obz-Exzq6FrV"
      }
    },
    {
      "cell_type": "code",
      "source": [
        "print(infra[\"infracao\"].describe())"
      ],
      "metadata": {
        "colab": {
          "base_uri": "https://localhost:8080/"
        },
        "id": "vKVa5qjN5tvA",
        "outputId": "379d4d37-e76e-4451-f844-38b2fbf3981c"
      },
      "execution_count": 12,
      "outputs": [
        {
          "output_type": "stream",
          "name": "stdout",
          "text": [
            "count    459713.000000\n",
            "mean       6607.109107\n",
            "std         913.657366\n",
            "min        5010.000000\n",
            "25%        5550.000000\n",
            "50%        7234.000000\n",
            "75%        7455.000000\n",
            "max        7765.000000\n",
            "Name: infracao, dtype: float64\n"
          ]
        }
      ]
    },
    {
      "cell_type": "markdown",
      "source": [
        "Descrição da Infração"
      ],
      "metadata": {
        "id": "xZv2p3uA6NTV"
      }
    },
    {
      "cell_type": "code",
      "source": [
        "print(infra[\"descricaoinfracao\"].describe())"
      ],
      "metadata": {
        "colab": {
          "base_uri": "https://localhost:8080/"
        },
        "id": "rN_-Gyko6HvN",
        "outputId": "bf7b9681-b7ac-4e72-a9f5-7dc6e10f7b84"
      },
      "execution_count": 13,
      "outputs": [
        {
          "output_type": "stream",
          "name": "stdout",
          "text": [
            "count                                                459713\n",
            "unique                                                  255\n",
            "top       Transitar em velocidade superior à máxima perm...\n",
            "freq                                                 134642\n",
            "Name: descricaoinfracao, dtype: object\n"
          ]
        }
      ]
    },
    {
      "cell_type": "markdown",
      "source": [
        "Local da Infração"
      ],
      "metadata": {
        "id": "uE21MFDK6UEr"
      }
    },
    {
      "cell_type": "code",
      "source": [
        "print(infra[\"localcometimento\"].describe())"
      ],
      "metadata": {
        "colab": {
          "base_uri": "https://localhost:8080/"
        },
        "id": "Mh2Be4iF6Wtq",
        "outputId": "522e3039-c7dd-488e-d32e-917470688ee3"
      },
      "execution_count": 14,
      "outputs": [
        {
          "output_type": "stream",
          "name": "stdout",
          "text": [
            "count                                              459713\n",
            "unique                                              48237\n",
            "top       CAIS SANTA RITA, PROX. AO N. 675 - SENT. CENTRO\n",
            "freq                                                10958\n",
            "Name: localcometimento, dtype: object\n"
          ]
        }
      ]
    },
    {
      "cell_type": "markdown",
      "source": [
        "Amparo Legal"
      ],
      "metadata": {
        "id": "Aey_VaeU7GF1"
      }
    },
    {
      "cell_type": "code",
      "source": [
        "print(infra[\"amparolegal\"].describe())"
      ],
      "metadata": {
        "colab": {
          "base_uri": "https://localhost:8080/"
        },
        "id": "T5LNqPDR6feT",
        "outputId": "d3323b64-7198-4c1a-b992-a71cd7c88b6f"
      },
      "execution_count": 21,
      "outputs": [
        {
          "output_type": "stream",
          "name": "stdout",
          "text": [
            "count               459713\n",
            "unique                 186\n",
            "top       ART. 218, INC. I\n",
            "freq                134642\n",
            "Name: amparolegal, dtype: object\n"
          ]
        }
      ]
    },
    {
      "cell_type": "markdown",
      "source": [
        "#Verificação de Valores"
      ],
      "metadata": {
        "id": "tMgkaCbi3rYe"
      }
    },
    {
      "cell_type": "markdown",
      "source": [
        "####Procurar por valores não numéricos e nulos"
      ],
      "metadata": {
        "id": "8oaX97KK9d3b"
      }
    },
    {
      "cell_type": "code",
      "source": [
        "print(infra.isna().value_counts())\n"
      ],
      "metadata": {
        "colab": {
          "base_uri": "https://localhost:8080/"
        },
        "id": "kv56gGfnna7u",
        "outputId": "b884b304-de92-45f7-8ae1-7717186ab066"
      },
      "execution_count": 16,
      "outputs": [
        {
          "output_type": "stream",
          "name": "stdout",
          "text": [
            "id     datainfracao  horainfracao  dataimplantacao  agenteequipamento  infracao  descricaoinfracao  amparolegal  localcometimento\n",
            "False  False         False         False            False              False     False              False        False               459713\n",
            "Name: count, dtype: int64\n"
          ]
        }
      ]
    },
    {
      "cell_type": "code",
      "source": [
        "print(infra.isnull().value_counts())"
      ],
      "metadata": {
        "colab": {
          "base_uri": "https://localhost:8080/"
        },
        "id": "EtZj7KB0nuWN",
        "outputId": "319a51f4-b38c-4a05-fd56-eaddabb70859"
      },
      "execution_count": 17,
      "outputs": [
        {
          "output_type": "stream",
          "name": "stdout",
          "text": [
            "id     datainfracao  horainfracao  dataimplantacao  agenteequipamento  infracao  descricaoinfracao  amparolegal  localcometimento\n",
            "False  False         False         False            False              False     False              False        False               459713\n",
            "Name: count, dtype: int64\n"
          ]
        }
      ]
    },
    {
      "cell_type": "markdown",
      "source": [
        "#### Ajustando amparo legal\n"
      ],
      "metadata": {
        "id": "wHzl15Ro9kaV"
      }
    },
    {
      "cell_type": "code",
      "source": [
        "infra['amparolegal'].unique()"
      ],
      "metadata": {
        "colab": {
          "base_uri": "https://localhost:8080/"
        },
        "id": "C1I8lgvi8Z96",
        "outputId": "be293aae-b9be-4484-a1e2-00e6016f5b20"
      },
      "execution_count": 20,
      "outputs": [
        {
          "output_type": "execute_result",
          "data": {
            "text/plain": [
              "array(['ART. 250, INC. I, ALÍNEA A', 'ART. 195', 'ART. 170',\n",
              "       'ART. 181, INC. XVIII', 'ART. 181, INC. VIII', 'ART. 185, INC. I',\n",
              "       'ART. 208', 'ART. 252, §ÚNICO', 'ART. 167', 'ART. 218, INC. I',\n",
              "       'ART. 187, INC. I', 'ART. 218, INC. II', 'ART. 183',\n",
              "       'ART. 218, INC. III', 'ART. 207', 'ART. 181, INC. XVII',\n",
              "       'ART. 181, INC. IX', 'ART. 178', 'ART. 184, INC. III',\n",
              "       'ART. 252, INC. IV', 'ART. 244, X', 'ART. 186, INC. II',\n",
              "       'ART. 182, INC. VII', 'ART. 230, INC. VI', 'ART. 201',\n",
              "       'ART. 182, INC. X', 'ART. 181, INC. XIII', 'ART. 181, INC. XI',\n",
              "       'ART. 196', 'ART. 206, INC. III', 'ART. 169', 'ART. 252, INC. VI',\n",
              "       'ART. 181, INC. XIX', 'ART. 252, INC. I', 'ART. 252, INC. V',\n",
              "       'ART. 181, INC. I', 'ART. 181, INC. XX', 'ART. 193', 'ART. 197',\n",
              "       'ART. 230, INC. V', 'ART. 162, INC. V', 'ART. 221',\n",
              "       'ART. 162, INC. I', 'ART. 244, INC. I', 'ART. 250, INC. III',\n",
              "       'ART. 186, INC. I', 'ART. 230, INC. XXII', 'ART. 182, INC. VI',\n",
              "       'ART. 181, INC. XV', 'ART. 206, INC. I', 'ART. 162, INC. VI',\n",
              "       'ART. 210', 'ART. 175', 'ART. 230, INC. VII', 'ART. 182, XI',\n",
              "       'ART. 230, INC. XIII', 'ART. 244, XI', 'ART. 185, INC. II',\n",
              "       'ART. 171', 'ART. 211', 'ART. 244, INC. II', 'ART. 227, INC. II',\n",
              "       'ART. 203, INC. IV', 'ART. 181, INC. X', 'ART. 230, INC. I',\n",
              "       'ART. 162, INC. III', 'ART. 214, INC. II',\n",
              "       'ART. 164, C/C ART. 162, INC. I', 'ART. 181, INC. IV', 'ART. 172',\n",
              "       'ART. 216', 'ART. 230, INC. XVIII', 'ART. 230, INC. IV',\n",
              "       'ART. 206, INC. V', 'ART. 173', 'ART. 194', 'ART. 174',\n",
              "       'ART. 165-A', 'ART. 230, INC. VIII',\n",
              "       'ART. 163, C/C ART. 162, INC. V', 'ART.168', 'ART. 220, INC. XIV',\n",
              "       'ART. 231, INC. VII', 'ART. 184, INC. II', 'ART. 206, INC. II',\n",
              "       'ART. 189', 'ART. 182, INC. I', 'ART. 162, INC. II',\n",
              "       'ART. 230, INC. X', 'ART. 252, INC. II',\n",
              "       'ART. 215, INC. I, ALÍNEA A', 'ART. 220, INC. XIII',\n",
              "       'ART. 227, INC. I', 'ART. 236', 'ART. 209', 'ART. 191',\n",
              "       'ART. 206, INC. IV', 'ART. 214, INC. I', 'ART. 180',\n",
              "       'ART. 230, INC. IX', 'ART. 253', 'ART. 184, INC. I', 'ART. 232',\n",
              "       'ART. 228', 'ART. 182, INC. III', 'ART. 229', 'ART. 244, INC. III',\n",
              "       'ART. 244, INC. VII', 'ART. 239', 'ART. 230, INC. II',\n",
              "       'ART. 231, INC. VIII', 'ART. 238', 'ART. 250, I, B',\n",
              "       'ART. 231, INC. II, ALÍNEA A', 'ART. 182, INC. II',\n",
              "       'ART. 230, INC. XVI', 'ART. 278, § ÚNICO C/C 210',\n",
              "       'ART. 220, INC. II', 'ART. 250, I, D',\n",
              "       'ART. 163, C/C ART. 162, INC. I', 'ART. 165', 'ART. 215, INC. II',\n",
              "       'ART. 164, C/C ART. 162, INC. V', 'ART. 176, INC. I',\n",
              "       'ART. 181, INC. II', 'ART. 235', 'ART. 230, INC. XI',\n",
              "       'ART. 181, INC. V', 'ART. 244, INC. V',\n",
              "       'ART. 164, C/C ART. 162, INC. III', 'ART. 182, INC. IX',\n",
              "       'ART. 230, INC. XII', 'ART. 214, INC. III', 'ART. 203, INC. I',\n",
              "       'ART. 205', 'ART. 181, INC. XII', 'ART. 203, INC. V',\n",
              "       'ART. 181, INC. XIV', 'ART. 192', 'ART. 181, INC. III',\n",
              "       'ART. 244, INC. III, C/C §1º', 'ART. 214, INC. V',\n",
              "       'Valores Inválidos', 'ART. 190', 'ART. 244, § 1º, ALÍNEA C',\n",
              "       'ART. 220, INC. I', 'ART.244, INC. VII, C/C §1º',\n",
              "       'ART. 202, INC. II', 'ART. 163, C/C ART. 162, INC. II',\n",
              "       'ART. 164, C/C ART. 162, INC. VI',\n",
              "       'ART. 164, C/C ART. 162, INC. II', 'ART. 244, § 1º, ALÍNEA A',\n",
              "       'ART. 230, INC. III', 'ART. 231, INC. I', 'ART. 176, INC. IV',\n",
              "       'ART. 244, INC. VIII', 'ART. 176, INC. II', 'ART. 176, INC. III',\n",
              "       'ART. 244 INCISO VIII', 'ART. 204', 'ART. 182, INC. V',\n",
              "       'ART. 215, INC. I, ALÍNEA B', 'ART. 202, INC. I',\n",
              "       'ART. 227, INC. III', 'ART. 251, INC. I', 'ART. 188',\n",
              "       'ART. 214, INC. IV', 'ART. 182, INC. VIII', 'ART. 223',\n",
              "       'ART. 244, INC. VI', 'ART. 182, INC. IV', 'ART. 220, INC. IV',\n",
              "       'ART. 199', 'ART. 254, INC. VI', 'ART. 181, INC. VII',\n",
              "       'ART. 203, INC. II', 'ART. 230, INC. XIX', 'ART. 227, INC. V',\n",
              "       'ART. 224', 'ART. 253-A, §1º', 'ART. 246', 'ART. 231, INC. IV',\n",
              "       'ART. 220, INC. VII', 'ART. 254, INC. I', 'ART. 225, INC. I',\n",
              "       'ART. 221, PARÁGRAFO ÚNICO'], dtype=object)"
            ]
          },
          "metadata": {},
          "execution_count": 20
        }
      ]
    },
    {
      "cell_type": "markdown",
      "source": [
        "Corrigindo valores\n"
      ],
      "metadata": {
        "id": "sjV-TVduAS99"
      }
    },
    {
      "cell_type": "code",
      "source": [
        "infra['amparolegal'] = infra['amparolegal'].str.upper()\n",
        "infra.loc[infra['amparolegal'].str.contains('SENTIDO'), 'amparolegal'] = \"Valores Inválidos\""
      ],
      "metadata": {
        "id": "i8JTEh0z9nj9"
      },
      "execution_count": 19,
      "outputs": []
    },
    {
      "cell_type": "markdown",
      "source": [
        "#Análise dos Dados\n"
      ],
      "metadata": {
        "id": "UwwrZLkZEALp"
      }
    },
    {
      "cell_type": "markdown",
      "source": [
        "### Infrações por meses do ano\n",
        "\n"
      ],
      "metadata": {
        "id": "ZOLvh0bq3zii"
      }
    },
    {
      "cell_type": "code",
      "source": [
        "import matplotlib.pyplot as plt\n",
        "\n",
        "# Converter para datetime\n",
        "infra['datainfracao'] = pd.to_datetime(infra['datainfracao'])\n",
        "\n",
        "# Dicionário com o nome de cada mês\n",
        "meses = {\n",
        "    1: '01 - Janeiro',\n",
        "    2: '02 - Fevereiro',\n",
        "    3: '03 - Março',\n",
        "    4: '04 - Abril',\n",
        "    5: '05 - Maio',\n",
        "    6: '06 - Junho',\n",
        "    7: '07 - Julho',\n",
        "    8: '08 - Agosto',\n",
        "    9: '09 - Setembro',\n",
        "    10: '10 - Outubro',\n",
        "    11: '11 - Novembro',\n",
        "    12: '12 - Dezembro',\n",
        "}\n",
        "\n",
        "# Criação da tabela mês\n",
        "infra['mes'] = infra['datainfracao'].dt.month.map(meses)\n",
        "\n",
        "# Extrair dados de cada mês\n",
        "infra_por_mes = infra.groupby('mes').size()\n",
        "\n",
        "# Criação do gráfico\n",
        "plt.figure(figsize=(16, 6))\n",
        "infra_por_mes.plot(kind='bar', color='skyblue')\n",
        "plt.title('Infrações por mês')\n",
        "plt.xlabel('Mês')\n",
        "plt.ylabel('Ocorrências')\n",
        "plt.xticks(rotation=0)\n",
        "plt.show()"
      ],
      "metadata": {
        "id": "FtY60wY-D-9a",
        "colab": {
          "base_uri": "https://localhost:8080/",
          "height": 565
        },
        "outputId": "58a063d8-8ca2-4581-ed54-0a700b36e63d"
      },
      "execution_count": 34,
      "outputs": [
        {
          "output_type": "display_data",
          "data": {
            "text/plain": [
              "<Figure size 1600x600 with 1 Axes>"
            ],
            "image/png": "[encoded data removed]"
          },
          "metadata": {}
        }
      ]
    },
    {
      "cell_type": "markdown",
      "source": [
        "###Infrações por hora"
      ],
      "metadata": {
        "id": "AG-5fiO16f8D"
      }
    },
    {
      "cell_type": "code",
      "source": [
        "infra['hora'] = pd.to_datetime(infra['horainfracao'], format='%H:%M:%S').dt.hour\n",
        "\n",
        "infra_por_hora = infra.groupby('hora').size()\n",
        "\n",
        "plt.figure(figsize=(10, 10))\n",
        "infra_por_hora.plot(kind='pie')\n",
        "plt.title('Infrações por hora')\n",
        "plt.xlabel('Hora do dia')\n",
        "plt.ylabel('Número de Infrações')\n",
        "plt.xticks(rotation=0)\n",
        "\n",
        "plt.show()"
      ],
      "metadata": {
        "colab": {
          "base_uri": "https://localhost:8080/",
          "height": 848
        },
        "id": "3RgzM3ey6fBu",
        "outputId": "3bf6cc11-9f84-42b9-ee01-ef2ea3ddf0b4"
      },
      "execution_count": 44,
      "outputs": [
        {
          "output_type": "display_data",
          "data": {
            "text/plain": [
              "<Figure size 1000x1000 with 1 Axes>"
            ],
            "image/png": "[encoded data removed]"
          },
          "metadata": {}
        }
      ]
    }
  ]
}