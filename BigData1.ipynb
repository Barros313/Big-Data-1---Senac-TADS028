{
  "nbformat": 4,
  "nbformat_minor": 0,
  "metadata": {
    "colab": {
      "provenance": [],
      "authorship_tag": "ABX9TyOZtP74guqwh7scA88Lrqh7",
      "include_colab_link": true
    },
    "kernelspec": {
      "name": "python3",
      "display_name": "Python 3"
    },
    "language_info": {
      "name": "python"
    }
  },
  "cells": [
    {
      "cell_type": "markdown",
      "metadata": {
        "id": "view-in-github",
        "colab_type": "text"
      },
      "source": [
        "<a href=\"https://colab.research.google.com/github/Barros313/Big-Data-1---Senac-TADS028/blob/main/BigData1.ipynb\" target=\"_parent\"><img src=\"https://colab.research.google.com/assets/colab-badge.svg\" alt=\"Open In Colab\"/></a>"
      ]
    },
    {
      "cell_type": "markdown",
      "source": [
        "# Criação do Banco de Dados\n",
        "\n",
        "Importação de bibliotecas externas e criação de função para fazer o banco de dados em SQL a partir de banco de dados em CSV"
      ],
      "metadata": {
        "id": "rhAyEBNU87Tp"
      }
    },
    {
      "cell_type": "code",
      "source": [
        "import requests\n",
        "import sqlite3\n",
        "import pandas as pd\n",
        "\n",
        "def create_infracoes_database():\n",
        "  url = 'http://dados.recife.pe.gov.br/api/3/action/datastore_search?resource_id=c269789d-da47-4dde-8ce7-42fba10fe8e2&limit=470000'\n",
        "\n",
        "  response = requests.get(url)\n",
        "  data = response.json()\n",
        "\n",
        "  if 'result' in data and 'records' in data['result']:\n",
        "    infracoes = data['result']['records']\n",
        "  else:\n",
        "    print(\"Erro: não foi possível obter dados da API\")\n",
        "    return\n",
        "\n",
        "  conn = sqlite3.connect('infracoes.db')\n",
        "  c = conn.cursor()\n",
        "\n",
        "  c.execute('''\n",
        "    CREATE TABLE IF NOT EXISTS infracoes (\n",
        "      id INTEGER PRIMARY KEY AUTOINCREMENT,\n",
        "      datainfracao DATE,\n",
        "      horainfracao TIMESTAMP,\n",
        "      dataimplantacao DATETIME,\n",
        "      agenteequipamento TEXT,\n",
        "      infracao INT,\n",
        "      descricaoinfracao TEXT,\n",
        "      amparolegal TEXT,\n",
        "      localcometimento TEXT\n",
        "    )\n",
        "  ''')\n",
        "\n",
        "  for infracao in infracoes:\n",
        "    c.execute('''\n",
        "      INSERT INTO infracoes (\n",
        "        datainfracao,\n",
        "        horainfracao,\n",
        "        dataimplantacao,\n",
        "        agenteequipamento,\n",
        "        infracao,\n",
        "        descricaoinfracao,\n",
        "        amparolegal,\n",
        "        localcometimento)\n",
        "      VALUES (?, ?, ?, ?, ?, ?, ?, ?);\n",
        "    ''', (\n",
        "        infracao.get(\"datainfracao\", \"\"),\n",
        "        infracao.get(\"horainfracao\", \"\"),\n",
        "        infracao.get(\"dataimplantacao\", \"\"),\n",
        "        infracao.get(\"agenteequipamento\", \"\"),\n",
        "        infracao.get(\"infracao\", 0),\n",
        "        infracao.get(\"descricaoinfracao\", \"\"),\n",
        "        infracao.get(\"amparolegal\", \"\"),\n",
        "        infracao.get(\"localcometimento\", \"\")\n",
        "        ))\n",
        "\n",
        "  conn.commit()\n",
        "  conn.close()\n",
        "\n",
        "create_infracoes_database()\n",
        "\n"
      ],
      "metadata": {
        "id": "cSrTcwI8xHP1"
      },
      "execution_count": 19,
      "outputs": []
    },
    {
      "cell_type": "markdown",
      "source": [
        "# Consulta geral\n",
        "\n",
        "Consultando tabela única (infrações) do banco de dados"
      ],
      "metadata": {
        "id": "9sRR-3FN9W9E"
      }
    },
    {
      "cell_type": "code",
      "source": [
        "connection = sqlite3.connect('infracoes.db')\n",
        "\n",
        "pd.read_sql(\"SELECT * FROM infracoes;\", connection, index_col=[\"id\"])"
      ],
      "metadata": {
        "colab": {
          "base_uri": "https://localhost:8080/",
          "height": 611
        },
        "id": "RYvO6PSVSvzs",
        "outputId": "ee0be234-eaf5-44b4-e740-106278bab60b"
      },
      "execution_count": 20,
      "outputs": [
        {
          "output_type": "execute_result",
          "data": {
            "text/plain": [
              "               datainfracao horainfracao      dataimplantacao  \\\n",
              "id                                                              \n",
              "1       2023-01-01T00:00:00     00:01:00  2023-01-06T00:00:00   \n",
              "2       2023-01-01T00:00:00     00:27:00  2023-01-06T00:00:00   \n",
              "3       2023-01-01T00:00:00     00:27:00  2023-01-06T00:00:00   \n",
              "4       2023-01-01T00:00:00     00:52:00  2023-01-06T00:00:00   \n",
              "5       2023-01-01T00:00:00     00:52:00  2023-01-06T00:00:00   \n",
              "...                     ...          ...                  ...   \n",
              "919422  2023-11-30T00:00:00     21:48:51  2023-12-06T00:00:00   \n",
              "919423  2023-11-30T00:00:00     21:51:48  2023-12-06T00:00:00   \n",
              "919424  2023-11-30T00:00:00     21:59:00  2023-12-11T00:00:00   \n",
              "919425  2023-11-30T00:00:00     22:00:00  2023-12-11T00:00:00   \n",
              "919426  2023-11-30T00:00:00     22:18:00  2023-12-11T00:00:00   \n",
              "\n",
              "                            agenteequipamento  infracao  \\\n",
              "id                                                        \n",
              "1        Código 8 - AUTOS NO TALÃO ELETRÔNICO      7234   \n",
              "2        Código 8 - AUTOS NO TALÃO ELETRÔNICO      5835   \n",
              "3        Código 8 - AUTOS NO TALÃO ELETRÔNICO      5215   \n",
              "4        Código 8 - AUTOS NO TALÃO ELETRÔNICO      5550   \n",
              "5        Código 8 - AUTOS NO TALÃO ELETRÔNICO      5550   \n",
              "...                                       ...       ...   \n",
              "919422                 Código 5 - FOTO SENSOR      5746   \n",
              "919423                 Código 5 - FOTO SENSOR      5746   \n",
              "919424  Código 7 - ZONA AZUL TALÃO ELETRÔNICO      5541   \n",
              "919425  Código 7 - ZONA AZUL TALÃO ELETRÔNICO      5541   \n",
              "919426   Código 8 - AUTOS NO TALÃO ELETRÔNICO      5568   \n",
              "\n",
              "                                        descricaoinfracao  \\\n",
              "id                                                          \n",
              "1       Quando o veículo estiver em movimento deixar d...   \n",
              "2       Desobedecer às ordens emanadas da autoridade c...   \n",
              "3       Dirigir ameaçando os pedestres que estejam atr...   \n",
              "4       Estacionar o veículo em locais e horários proi...   \n",
              "5       Estacionar o veículo em locais e horários proi...   \n",
              "...                                                   ...   \n",
              "919422  Transitar em locais e horários não permitidos ...   \n",
              "919423  Transitar em locais e horários não permitidos ...   \n",
              "919424  Estacionar o veículo em desacordo com as condi...   \n",
              "919425  Estacionar o veículo em desacordo com as condi...   \n",
              "919426  Estacionar o veículo em locais e horários de e...   \n",
              "\n",
              "                       amparolegal  \\\n",
              "id                                   \n",
              "1       Art. 250, Inc. I, alínea a   \n",
              "2                         Art. 195   \n",
              "3                         Art. 170   \n",
              "4             Art. 181, Inc. XVIII   \n",
              "5             Art. 181, Inc. XVIII   \n",
              "...                            ...   \n",
              "919422            Art. 187, Inc. I   \n",
              "919423            Art. 187, Inc. I   \n",
              "919424         Art. 181, Inc. XVII   \n",
              "919425         Art. 181, Inc. XVII   \n",
              "919426          Art. 181, Inc. XIX   \n",
              "\n",
              "                                         localcometimento  \n",
              "id                                                         \n",
              "1             RUA RIBEIRO DE BRITO, SOB O SEMAFORO N. 155  \n",
              "2       RUA DOS NAVEGANTES, CRUZAMENTO COM A RUA PADRE...  \n",
              "3       RUA DOS NAVEGANTES, CRUZAMENTO COM A RUA PADRE...  \n",
              "4       AVENIDA ENGENHEIRO DOMINGOS FERREIRA, EM FRENT...  \n",
              "5       AVENIDA ENGENHEIRO DOMINGOS FERREIRA, EM FRENT...  \n",
              "...                                                   ...  \n",
              "919422  AV. CDE. DA BOA VISTA, SEMAFORO 486, Sentido:C...  \n",
              "919423  AV. CDE. DA BOA VISTA, SEMAFORO 486, Sentido:C...  \n",
              "919424              PRACA DO DERBY, LADO OPOSTO AO N. 149  \n",
              "919425              PRACA DO DERBY, LADO OPOSTO AO N. 149  \n",
              "919426  RUA GUARARAPES INFRAERO, EM FRENTE AO EDIFICIO...  \n",
              "\n",
              "[919426 rows x 8 columns]"
            ],
            "text/html": [
              "\n",
              "  <div id=\"df-e4f6a909-5ce9-482a-9424-eb730a430bb3\" class=\"colab-df-container\">\n",
              "    <div>\n",
              "<style scoped>\n",
              "    .dataframe tbody tr th:only-of-type {\n",
              "        vertical-align: middle;\n",
              "    }\n",
              "\n",
              "    .dataframe tbody tr th {\n",
              "        vertical-align: top;\n",
              "    }\n",
              "\n",
              "    .dataframe thead th {\n",
              "        text-align: right;\n",
              "    }\n",
              "</style>\n",
              "<table border=\"1\" class=\"dataframe\">\n",
              "  <thead>\n",
              "    <tr style=\"text-align: right;\">\n",
              "      <th></th>\n",
              "      <th>datainfracao</th>\n",
              "      <th>horainfracao</th>\n",
              "      <th>dataimplantacao</th>\n",
              "      <th>agenteequipamento</th>\n",
              "      <th>infracao</th>\n",
              "      <th>descricaoinfracao</th>\n",
              "      <th>amparolegal</th>\n",
              "      <th>localcometimento</th>\n",
              "    </tr>\n",
              "    <tr>\n",
              "      <th>id</th>\n",
              "      <th></th>\n",
              "      <th></th>\n",
              "      <th></th>\n",
              "      <th></th>\n",
              "      <th></th>\n",
              "      <th></th>\n",
              "      <th></th>\n",
              "      <th></th>\n",
              "    </tr>\n",
              "  </thead>\n",
              "  <tbody>\n",
              "    <tr>\n",
              "      <th>1</th>\n",
              "      <td>2023-01-01T00:00:00</td>\n",
              "      <td>00:01:00</td>\n",
              "      <td>2023-01-06T00:00:00</td>\n",
              "      <td>Código 8 - AUTOS NO TALÃO ELETRÔNICO</td>\n",
              "      <td>7234</td>\n",
              "      <td>Quando o veículo estiver em movimento deixar d...</td>\n",
              "      <td>Art. 250, Inc. I, alínea a</td>\n",
              "      <td>RUA RIBEIRO DE BRITO, SOB O SEMAFORO N. 155</td>\n",
              "    </tr>\n",
              "    <tr>\n",
              "      <th>2</th>\n",
              "      <td>2023-01-01T00:00:00</td>\n",
              "      <td>00:27:00</td>\n",
              "      <td>2023-01-06T00:00:00</td>\n",
              "      <td>Código 8 - AUTOS NO TALÃO ELETRÔNICO</td>\n",
              "      <td>5835</td>\n",
              "      <td>Desobedecer às ordens emanadas da autoridade c...</td>\n",
              "      <td>Art. 195</td>\n",
              "      <td>RUA DOS NAVEGANTES, CRUZAMENTO COM A RUA PADRE...</td>\n",
              "    </tr>\n",
              "    <tr>\n",
              "      <th>3</th>\n",
              "      <td>2023-01-01T00:00:00</td>\n",
              "      <td>00:27:00</td>\n",
              "      <td>2023-01-06T00:00:00</td>\n",
              "      <td>Código 8 - AUTOS NO TALÃO ELETRÔNICO</td>\n",
              "      <td>5215</td>\n",
              "      <td>Dirigir ameaçando os pedestres que estejam atr...</td>\n",
              "      <td>Art. 170</td>\n",
              "      <td>RUA DOS NAVEGANTES, CRUZAMENTO COM A RUA PADRE...</td>\n",
              "    </tr>\n",
              "    <tr>\n",
              "      <th>4</th>\n",
              "      <td>2023-01-01T00:00:00</td>\n",
              "      <td>00:52:00</td>\n",
              "      <td>2023-01-06T00:00:00</td>\n",
              "      <td>Código 8 - AUTOS NO TALÃO ELETRÔNICO</td>\n",
              "      <td>5550</td>\n",
              "      <td>Estacionar o veículo em locais e horários proi...</td>\n",
              "      <td>Art. 181, Inc. XVIII</td>\n",
              "      <td>AVENIDA ENGENHEIRO DOMINGOS FERREIRA, EM FRENT...</td>\n",
              "    </tr>\n",
              "    <tr>\n",
              "      <th>5</th>\n",
              "      <td>2023-01-01T00:00:00</td>\n",
              "      <td>00:52:00</td>\n",
              "      <td>2023-01-06T00:00:00</td>\n",
              "      <td>Código 8 - AUTOS NO TALÃO ELETRÔNICO</td>\n",
              "      <td>5550</td>\n",
              "      <td>Estacionar o veículo em locais e horários proi...</td>\n",
              "      <td>Art. 181, Inc. XVIII</td>\n",
              "      <td>AVENIDA ENGENHEIRO DOMINGOS FERREIRA, EM FRENT...</td>\n",
              "    </tr>\n",
              "    <tr>\n",
              "      <th>...</th>\n",
              "      <td>...</td>\n",
              "      <td>...</td>\n",
              "      <td>...</td>\n",
              "      <td>...</td>\n",
              "      <td>...</td>\n",
              "      <td>...</td>\n",
              "      <td>...</td>\n",
              "      <td>...</td>\n",
              "    </tr>\n",
              "    <tr>\n",
              "      <th>919422</th>\n",
              "      <td>2023-11-30T00:00:00</td>\n",
              "      <td>21:48:51</td>\n",
              "      <td>2023-12-06T00:00:00</td>\n",
              "      <td>Código 5 - FOTO SENSOR</td>\n",
              "      <td>5746</td>\n",
              "      <td>Transitar em locais e horários não permitidos ...</td>\n",
              "      <td>Art. 187, Inc. I</td>\n",
              "      <td>AV. CDE. DA BOA VISTA, SEMAFORO 486, Sentido:C...</td>\n",
              "    </tr>\n",
              "    <tr>\n",
              "      <th>919423</th>\n",
              "      <td>2023-11-30T00:00:00</td>\n",
              "      <td>21:51:48</td>\n",
              "      <td>2023-12-06T00:00:00</td>\n",
              "      <td>Código 5 - FOTO SENSOR</td>\n",
              "      <td>5746</td>\n",
              "      <td>Transitar em locais e horários não permitidos ...</td>\n",
              "      <td>Art. 187, Inc. I</td>\n",
              "      <td>AV. CDE. DA BOA VISTA, SEMAFORO 486, Sentido:C...</td>\n",
              "    </tr>\n",
              "    <tr>\n",
              "      <th>919424</th>\n",
              "      <td>2023-11-30T00:00:00</td>\n",
              "      <td>21:59:00</td>\n",
              "      <td>2023-12-11T00:00:00</td>\n",
              "      <td>Código 7 - ZONA AZUL TALÃO ELETRÔNICO</td>\n",
              "      <td>5541</td>\n",
              "      <td>Estacionar o veículo em desacordo com as condi...</td>\n",
              "      <td>Art. 181, Inc. XVII</td>\n",
              "      <td>PRACA DO DERBY, LADO OPOSTO AO N. 149</td>\n",
              "    </tr>\n",
              "    <tr>\n",
              "      <th>919425</th>\n",
              "      <td>2023-11-30T00:00:00</td>\n",
              "      <td>22:00:00</td>\n",
              "      <td>2023-12-11T00:00:00</td>\n",
              "      <td>Código 7 - ZONA AZUL TALÃO ELETRÔNICO</td>\n",
              "      <td>5541</td>\n",
              "      <td>Estacionar o veículo em desacordo com as condi...</td>\n",
              "      <td>Art. 181, Inc. XVII</td>\n",
              "      <td>PRACA DO DERBY, LADO OPOSTO AO N. 149</td>\n",
              "    </tr>\n",
              "    <tr>\n",
              "      <th>919426</th>\n",
              "      <td>2023-11-30T00:00:00</td>\n",
              "      <td>22:18:00</td>\n",
              "      <td>2023-12-11T00:00:00</td>\n",
              "      <td>Código 8 - AUTOS NO TALÃO ELETRÔNICO</td>\n",
              "      <td>5568</td>\n",
              "      <td>Estacionar o veículo em locais e horários de e...</td>\n",
              "      <td>Art. 181, Inc. XIX</td>\n",
              "      <td>RUA GUARARAPES INFRAERO, EM FRENTE AO EDIFICIO...</td>\n",
              "    </tr>\n",
              "  </tbody>\n",
              "</table>\n",
              "<p>919426 rows × 8 columns</p>\n",
              "</div>\n",
              "    <div class=\"colab-df-buttons\">\n",
              "\n",
              "  <div class=\"colab-df-container\">\n",
              "    <button class=\"colab-df-convert\" onclick=\"convertToInteractive('df-e4f6a909-5ce9-482a-9424-eb730a430bb3')\"\n",
              "            title=\"Convert this dataframe to an interactive table.\"\n",
              "            style=\"display:none;\">\n",
              "\n",
              "  <svg xmlns=\"http://www.w3.org/2000/svg\" height=\"24px\" viewBox=\"0 -960 960 960\">\n",
              "    <path d=\"M120-120v-720h720v720H120Zm60-500h600v-160H180v160Zm220 220h160v-160H400v160Zm0 220h160v-160H400v160ZM180-400h160v-160H180v160Zm440 0h160v-160H620v160ZM180-180h160v-160H180v160Zm440 0h160v-160H620v160Z\"/>\n",
              "  </svg>\n",
              "    </button>\n",
              "\n",
              "  <style>\n",
              "    .colab-df-container {\n",
              "      display:flex;\n",
              "      gap: 12px;\n",
              "    }\n",
              "\n",
              "    .colab-df-convert {\n",
              "      background-color: #E8F0FE;\n",
              "      border: none;\n",
              "      border-radius: 50%;\n",
              "      cursor: pointer;\n",
              "      display: none;\n",
              "      fill: #1967D2;\n",
              "      height: 32px;\n",
              "      padding: 0 0 0 0;\n",
              "      width: 32px;\n",
              "    }\n",
              "\n",
              "    .colab-df-convert:hover {\n",
              "      background-color: #E2EBFA;\n",
              "      box-shadow: 0px 1px 2px rgba(60, 64, 67, 0.3), 0px 1px 3px 1px rgba(60, 64, 67, 0.15);\n",
              "      fill: #174EA6;\n",
              "    }\n",
              "\n",
              "    .colab-df-buttons div {\n",
              "      margin-bottom: 4px;\n",
              "    }\n",
              "\n",
              "    [theme=dark] .colab-df-convert {\n",
              "      background-color: #3B4455;\n",
              "      fill: #D2E3FC;\n",
              "    }\n",
              "\n",
              "    [theme=dark] .colab-df-convert:hover {\n",
              "      background-color: #434B5C;\n",
              "      box-shadow: 0px 1px 3px 1px rgba(0, 0, 0, 0.15);\n",
              "      filter: drop-shadow(0px 1px 2px rgba(0, 0, 0, 0.3));\n",
              "      fill: #FFFFFF;\n",
              "    }\n",
              "  </style>\n",
              "\n",
              "    <script>\n",
              "      const buttonEl =\n",
              "        document.querySelector('#df-e4f6a909-5ce9-482a-9424-eb730a430bb3 button.colab-df-convert');\n",
              "      buttonEl.style.display =\n",
              "        google.colab.kernel.accessAllowed ? 'block' : 'none';\n",
              "\n",
              "      async function convertToInteractive(key) {\n",
              "        const element = document.querySelector('#df-e4f6a909-5ce9-482a-9424-eb730a430bb3');\n",
              "        const dataTable =\n",
              "          await google.colab.kernel.invokeFunction('convertToInteractive',\n",
              "                                                    [key], {});\n",
              "        if (!dataTable) return;\n",
              "\n",
              "        const docLinkHtml = 'Like what you see? Visit the ' +\n",
              "          '<a target=\"_blank\" href=https://colab.research.google.com/notebooks/data_table.ipynb>data table notebook</a>'\n",
              "          + ' to learn more about interactive tables.';\n",
              "        element.innerHTML = '';\n",
              "        dataTable['output_type'] = 'display_data';\n",
              "        await google.colab.output.renderOutput(dataTable, element);\n",
              "        const docLink = document.createElement('div');\n",
              "        docLink.innerHTML = docLinkHtml;\n",
              "        element.appendChild(docLink);\n",
              "      }\n",
              "    </script>\n",
              "  </div>\n",
              "\n",
              "\n",
              "<div id=\"df-abae1f65-12b7-403e-99ae-5f5cf1a57034\">\n",
              "  <button class=\"colab-df-quickchart\" onclick=\"quickchart('df-abae1f65-12b7-403e-99ae-5f5cf1a57034')\"\n",
              "            title=\"Suggest charts\"\n",
              "            style=\"display:none;\">\n",
              "\n",
              "<svg xmlns=\"http://www.w3.org/2000/svg\" height=\"24px\"viewBox=\"0 0 24 24\"\n",
              "     width=\"24px\">\n",
              "    <g>\n",
              "        <path d=\"M19 3H5c-1.1 0-2 .9-2 2v14c0 1.1.9 2 2 2h14c1.1 0 2-.9 2-2V5c0-1.1-.9-2-2-2zM9 17H7v-7h2v7zm4 0h-2V7h2v10zm4 0h-2v-4h2v4z\"/>\n",
              "    </g>\n",
              "</svg>\n",
              "  </button>\n",
              "\n",
              "<style>\n",
              "  .colab-df-quickchart {\n",
              "      --bg-color: #E8F0FE;\n",
              "      --fill-color: #1967D2;\n",
              "      --hover-bg-color: #E2EBFA;\n",
              "      --hover-fill-color: #174EA6;\n",
              "      --disabled-fill-color: #AAA;\n",
              "      --disabled-bg-color: #DDD;\n",
              "  }\n",
              "\n",
              "  [theme=dark] .colab-df-quickchart {\n",
              "      --bg-color: #3B4455;\n",
              "      --fill-color: #D2E3FC;\n",
              "      --hover-bg-color: #434B5C;\n",
              "      --hover-fill-color: #FFFFFF;\n",
              "      --disabled-bg-color: #3B4455;\n",
              "      --disabled-fill-color: #666;\n",
              "  }\n",
              "\n",
              "  .colab-df-quickchart {\n",
              "    background-color: var(--bg-color);\n",
              "    border: none;\n",
              "    border-radius: 50%;\n",
              "    cursor: pointer;\n",
              "    display: none;\n",
              "    fill: var(--fill-color);\n",
              "    height: 32px;\n",
              "    padding: 0;\n",
              "    width: 32px;\n",
              "  }\n",
              "\n",
              "  .colab-df-quickchart:hover {\n",
              "    background-color: var(--hover-bg-color);\n",
              "    box-shadow: 0 1px 2px rgba(60, 64, 67, 0.3), 0 1px 3px 1px rgba(60, 64, 67, 0.15);\n",
              "    fill: var(--button-hover-fill-color);\n",
              "  }\n",
              "\n",
              "  .colab-df-quickchart-complete:disabled,\n",
              "  .colab-df-quickchart-complete:disabled:hover {\n",
              "    background-color: var(--disabled-bg-color);\n",
              "    fill: var(--disabled-fill-color);\n",
              "    box-shadow: none;\n",
              "  }\n",
              "\n",
              "  .colab-df-spinner {\n",
              "    border: 2px solid var(--fill-color);\n",
              "    border-color: transparent;\n",
              "    border-bottom-color: var(--fill-color);\n",
              "    animation:\n",
              "      spin 1s steps(1) infinite;\n",
              "  }\n",
              "\n",
              "  @keyframes spin {\n",
              "    0% {\n",
              "      border-color: transparent;\n",
              "      border-bottom-color: var(--fill-color);\n",
              "      border-left-color: var(--fill-color);\n",
              "    }\n",
              "    20% {\n",
              "      border-color: transparent;\n",
              "      border-left-color: var(--fill-color);\n",
              "      border-top-color: var(--fill-color);\n",
              "    }\n",
              "    30% {\n",
              "      border-color: transparent;\n",
              "      border-left-color: var(--fill-color);\n",
              "      border-top-color: var(--fill-color);\n",
              "      border-right-color: var(--fill-color);\n",
              "    }\n",
              "    40% {\n",
              "      border-color: transparent;\n",
              "      border-right-color: var(--fill-color);\n",
              "      border-top-color: var(--fill-color);\n",
              "    }\n",
              "    60% {\n",
              "      border-color: transparent;\n",
              "      border-right-color: var(--fill-color);\n",
              "    }\n",
              "    80% {\n",
              "      border-color: transparent;\n",
              "      border-right-color: var(--fill-color);\n",
              "      border-bottom-color: var(--fill-color);\n",
              "    }\n",
              "    90% {\n",
              "      border-color: transparent;\n",
              "      border-bottom-color: var(--fill-color);\n",
              "    }\n",
              "  }\n",
              "</style>\n",
              "\n",
              "  <script>\n",
              "    async function quickchart(key) {\n",
              "      const quickchartButtonEl =\n",
              "        document.querySelector('#' + key + ' button');\n",
              "      quickchartButtonEl.disabled = true;  // To prevent multiple clicks.\n",
              "      quickchartButtonEl.classList.add('colab-df-spinner');\n",
              "      try {\n",
              "        const charts = await google.colab.kernel.invokeFunction(\n",
              "            'suggestCharts', [key], {});\n",
              "      } catch (error) {\n",
              "        console.error('Error during call to suggestCharts:', error);\n",
              "      }\n",
              "      quickchartButtonEl.classList.remove('colab-df-spinner');\n",
              "      quickchartButtonEl.classList.add('colab-df-quickchart-complete');\n",
              "    }\n",
              "    (() => {\n",
              "      let quickchartButtonEl =\n",
              "        document.querySelector('#df-abae1f65-12b7-403e-99ae-5f5cf1a57034 button');\n",
              "      quickchartButtonEl.style.display =\n",
              "        google.colab.kernel.accessAllowed ? 'block' : 'none';\n",
              "    })();\n",
              "  </script>\n",
              "</div>\n",
              "\n",
              "    </div>\n",
              "  </div>\n"
            ],
            "application/vnd.google.colaboratory.intrinsic+json": {
              "type": "dataframe"
            }
          },
          "metadata": {},
          "execution_count": 20
        }
      ]
    },
    {
      "cell_type": "markdown",
      "source": [
        "# SQL Query\n",
        "\n",
        "Função de select geral para utilizar no pandas"
      ],
      "metadata": {
        "id": "_mYwxNXk9fDV"
      }
    },
    {
      "cell_type": "code",
      "source": [
        "infra = pd.read_sql_query(\"SELECT * FROM infracoes;\", connection)"
      ],
      "metadata": {
        "id": "EePs6UTi9g-w"
      },
      "execution_count": 21,
      "outputs": []
    },
    {
      "cell_type": "markdown",
      "source": [
        "# Características da Tabela\n",
        "\n",
        "Comando para descrever os dados da tabela\n",
        "\n",
        "|Output|Descrição|\n",
        "|---|---|\n",
        "|count|Quantidade de Registros|\n",
        "|mean|Média|\n",
        "|std|Desvio Padrão|\n",
        "|min|Valor mínimo|\n",
        "|max|Valor máximo|\n",
        "|n%|Valor percentual em relação ao máximo|"
      ],
      "metadata": {
        "id": "O1ySqI6FBsV3"
      }
    },
    {
      "cell_type": "code",
      "source": [
        "infra.describe()"
      ],
      "metadata": {
        "colab": {
          "base_uri": "https://localhost:8080/",
          "height": 300
        },
        "id": "8dogme1aAQ-H",
        "outputId": "17bdc0a0-9fa3-4590-e15b-4519007c88a9"
      },
      "execution_count": 22,
      "outputs": [
        {
          "output_type": "execute_result",
          "data": {
            "text/plain": [
              "                  id       infracao\n",
              "count  919426.000000  919426.000000\n",
              "mean   459713.500000    6607.109107\n",
              "std    265415.568637     913.656869\n",
              "min         1.000000    5010.000000\n",
              "25%    229857.250000    5550.000000\n",
              "50%    459713.500000    7234.000000\n",
              "75%    689569.750000    7455.000000\n",
              "max    919426.000000    7765.000000"
            ],
            "text/html": [
              "\n",
              "  <div id=\"df-c20cf36b-3584-4634-8b3f-cd1b78882860\" class=\"colab-df-container\">\n",
              "    <div>\n",
              "<style scoped>\n",
              "    .dataframe tbody tr th:only-of-type {\n",
              "        vertical-align: middle;\n",
              "    }\n",
              "\n",
              "    .dataframe tbody tr th {\n",
              "        vertical-align: top;\n",
              "    }\n",
              "\n",
              "    .dataframe thead th {\n",
              "        text-align: right;\n",
              "    }\n",
              "</style>\n",
              "<table border=\"1\" class=\"dataframe\">\n",
              "  <thead>\n",
              "    <tr style=\"text-align: right;\">\n",
              "      <th></th>\n",
              "      <th>id</th>\n",
              "      <th>infracao</th>\n",
              "    </tr>\n",
              "  </thead>\n",
              "  <tbody>\n",
              "    <tr>\n",
              "      <th>count</th>\n",
              "      <td>919426.000000</td>\n",
              "      <td>919426.000000</td>\n",
              "    </tr>\n",
              "    <tr>\n",
              "      <th>mean</th>\n",
              "      <td>459713.500000</td>\n",
              "      <td>6607.109107</td>\n",
              "    </tr>\n",
              "    <tr>\n",
              "      <th>std</th>\n",
              "      <td>265415.568637</td>\n",
              "      <td>913.656869</td>\n",
              "    </tr>\n",
              "    <tr>\n",
              "      <th>min</th>\n",
              "      <td>1.000000</td>\n",
              "      <td>5010.000000</td>\n",
              "    </tr>\n",
              "    <tr>\n",
              "      <th>25%</th>\n",
              "      <td>229857.250000</td>\n",
              "      <td>5550.000000</td>\n",
              "    </tr>\n",
              "    <tr>\n",
              "      <th>50%</th>\n",
              "      <td>459713.500000</td>\n",
              "      <td>7234.000000</td>\n",
              "    </tr>\n",
              "    <tr>\n",
              "      <th>75%</th>\n",
              "      <td>689569.750000</td>\n",
              "      <td>7455.000000</td>\n",
              "    </tr>\n",
              "    <tr>\n",
              "      <th>max</th>\n",
              "      <td>919426.000000</td>\n",
              "      <td>7765.000000</td>\n",
              "    </tr>\n",
              "  </tbody>\n",
              "</table>\n",
              "</div>\n",
              "    <div class=\"colab-df-buttons\">\n",
              "\n",
              "  <div class=\"colab-df-container\">\n",
              "    <button class=\"colab-df-convert\" onclick=\"convertToInteractive('df-c20cf36b-3584-4634-8b3f-cd1b78882860')\"\n",
              "            title=\"Convert this dataframe to an interactive table.\"\n",
              "            style=\"display:none;\">\n",
              "\n",
              "  <svg xmlns=\"http://www.w3.org/2000/svg\" height=\"24px\" viewBox=\"0 -960 960 960\">\n",
              "    <path d=\"M120-120v-720h720v720H120Zm60-500h600v-160H180v160Zm220 220h160v-160H400v160Zm0 220h160v-160H400v160ZM180-400h160v-160H180v160Zm440 0h160v-160H620v160ZM180-180h160v-160H180v160Zm440 0h160v-160H620v160Z\"/>\n",
              "  </svg>\n",
              "    </button>\n",
              "\n",
              "  <style>\n",
              "    .colab-df-container {\n",
              "      display:flex;\n",
              "      gap: 12px;\n",
              "    }\n",
              "\n",
              "    .colab-df-convert {\n",
              "      background-color: #E8F0FE;\n",
              "      border: none;\n",
              "      border-radius: 50%;\n",
              "      cursor: pointer;\n",
              "      display: none;\n",
              "      fill: #1967D2;\n",
              "      height: 32px;\n",
              "      padding: 0 0 0 0;\n",
              "      width: 32px;\n",
              "    }\n",
              "\n",
              "    .colab-df-convert:hover {\n",
              "      background-color: #E2EBFA;\n",
              "      box-shadow: 0px 1px 2px rgba(60, 64, 67, 0.3), 0px 1px 3px 1px rgba(60, 64, 67, 0.15);\n",
              "      fill: #174EA6;\n",
              "    }\n",
              "\n",
              "    .colab-df-buttons div {\n",
              "      margin-bottom: 4px;\n",
              "    }\n",
              "\n",
              "    [theme=dark] .colab-df-convert {\n",
              "      background-color: #3B4455;\n",
              "      fill: #D2E3FC;\n",
              "    }\n",
              "\n",
              "    [theme=dark] .colab-df-convert:hover {\n",
              "      background-color: #434B5C;\n",
              "      box-shadow: 0px 1px 3px 1px rgba(0, 0, 0, 0.15);\n",
              "      filter: drop-shadow(0px 1px 2px rgba(0, 0, 0, 0.3));\n",
              "      fill: #FFFFFF;\n",
              "    }\n",
              "  </style>\n",
              "\n",
              "    <script>\n",
              "      const buttonEl =\n",
              "        document.querySelector('#df-c20cf36b-3584-4634-8b3f-cd1b78882860 button.colab-df-convert');\n",
              "      buttonEl.style.display =\n",
              "        google.colab.kernel.accessAllowed ? 'block' : 'none';\n",
              "\n",
              "      async function convertToInteractive(key) {\n",
              "        const element = document.querySelector('#df-c20cf36b-3584-4634-8b3f-cd1b78882860');\n",
              "        const dataTable =\n",
              "          await google.colab.kernel.invokeFunction('convertToInteractive',\n",
              "                                                    [key], {});\n",
              "        if (!dataTable) return;\n",
              "\n",
              "        const docLinkHtml = 'Like what you see? Visit the ' +\n",
              "          '<a target=\"_blank\" href=https://colab.research.google.com/notebooks/data_table.ipynb>data table notebook</a>'\n",
              "          + ' to learn more about interactive tables.';\n",
              "        element.innerHTML = '';\n",
              "        dataTable['output_type'] = 'display_data';\n",
              "        await google.colab.output.renderOutput(dataTable, element);\n",
              "        const docLink = document.createElement('div');\n",
              "        docLink.innerHTML = docLinkHtml;\n",
              "        element.appendChild(docLink);\n",
              "      }\n",
              "    </script>\n",
              "  </div>\n",
              "\n",
              "\n",
              "<div id=\"df-4b934cc9-8d63-4e1c-a602-66c049901c09\">\n",
              "  <button class=\"colab-df-quickchart\" onclick=\"quickchart('df-4b934cc9-8d63-4e1c-a602-66c049901c09')\"\n",
              "            title=\"Suggest charts\"\n",
              "            style=\"display:none;\">\n",
              "\n",
              "<svg xmlns=\"http://www.w3.org/2000/svg\" height=\"24px\"viewBox=\"0 0 24 24\"\n",
              "     width=\"24px\">\n",
              "    <g>\n",
              "        <path d=\"M19 3H5c-1.1 0-2 .9-2 2v14c0 1.1.9 2 2 2h14c1.1 0 2-.9 2-2V5c0-1.1-.9-2-2-2zM9 17H7v-7h2v7zm4 0h-2V7h2v10zm4 0h-2v-4h2v4z\"/>\n",
              "    </g>\n",
              "</svg>\n",
              "  </button>\n",
              "\n",
              "<style>\n",
              "  .colab-df-quickchart {\n",
              "      --bg-color: #E8F0FE;\n",
              "      --fill-color: #1967D2;\n",
              "      --hover-bg-color: #E2EBFA;\n",
              "      --hover-fill-color: #174EA6;\n",
              "      --disabled-fill-color: #AAA;\n",
              "      --disabled-bg-color: #DDD;\n",
              "  }\n",
              "\n",
              "  [theme=dark] .colab-df-quickchart {\n",
              "      --bg-color: #3B4455;\n",
              "      --fill-color: #D2E3FC;\n",
              "      --hover-bg-color: #434B5C;\n",
              "      --hover-fill-color: #FFFFFF;\n",
              "      --disabled-bg-color: #3B4455;\n",
              "      --disabled-fill-color: #666;\n",
              "  }\n",
              "\n",
              "  .colab-df-quickchart {\n",
              "    background-color: var(--bg-color);\n",
              "    border: none;\n",
              "    border-radius: 50%;\n",
              "    cursor: pointer;\n",
              "    display: none;\n",
              "    fill: var(--fill-color);\n",
              "    height: 32px;\n",
              "    padding: 0;\n",
              "    width: 32px;\n",
              "  }\n",
              "\n",
              "  .colab-df-quickchart:hover {\n",
              "    background-color: var(--hover-bg-color);\n",
              "    box-shadow: 0 1px 2px rgba(60, 64, 67, 0.3), 0 1px 3px 1px rgba(60, 64, 67, 0.15);\n",
              "    fill: var(--button-hover-fill-color);\n",
              "  }\n",
              "\n",
              "  .colab-df-quickchart-complete:disabled,\n",
              "  .colab-df-quickchart-complete:disabled:hover {\n",
              "    background-color: var(--disabled-bg-color);\n",
              "    fill: var(--disabled-fill-color);\n",
              "    box-shadow: none;\n",
              "  }\n",
              "\n",
              "  .colab-df-spinner {\n",
              "    border: 2px solid var(--fill-color);\n",
              "    border-color: transparent;\n",
              "    border-bottom-color: var(--fill-color);\n",
              "    animation:\n",
              "      spin 1s steps(1) infinite;\n",
              "  }\n",
              "\n",
              "  @keyframes spin {\n",
              "    0% {\n",
              "      border-color: transparent;\n",
              "      border-bottom-color: var(--fill-color);\n",
              "      border-left-color: var(--fill-color);\n",
              "    }\n",
              "    20% {\n",
              "      border-color: transparent;\n",
              "      border-left-color: var(--fill-color);\n",
              "      border-top-color: var(--fill-color);\n",
              "    }\n",
              "    30% {\n",
              "      border-color: transparent;\n",
              "      border-left-color: var(--fill-color);\n",
              "      border-top-color: var(--fill-color);\n",
              "      border-right-color: var(--fill-color);\n",
              "    }\n",
              "    40% {\n",
              "      border-color: transparent;\n",
              "      border-right-color: var(--fill-color);\n",
              "      border-top-color: var(--fill-color);\n",
              "    }\n",
              "    60% {\n",
              "      border-color: transparent;\n",
              "      border-right-color: var(--fill-color);\n",
              "    }\n",
              "    80% {\n",
              "      border-color: transparent;\n",
              "      border-right-color: var(--fill-color);\n",
              "      border-bottom-color: var(--fill-color);\n",
              "    }\n",
              "    90% {\n",
              "      border-color: transparent;\n",
              "      border-bottom-color: var(--fill-color);\n",
              "    }\n",
              "  }\n",
              "</style>\n",
              "\n",
              "  <script>\n",
              "    async function quickchart(key) {\n",
              "      const quickchartButtonEl =\n",
              "        document.querySelector('#' + key + ' button');\n",
              "      quickchartButtonEl.disabled = true;  // To prevent multiple clicks.\n",
              "      quickchartButtonEl.classList.add('colab-df-spinner');\n",
              "      try {\n",
              "        const charts = await google.colab.kernel.invokeFunction(\n",
              "            'suggestCharts', [key], {});\n",
              "      } catch (error) {\n",
              "        console.error('Error during call to suggestCharts:', error);\n",
              "      }\n",
              "      quickchartButtonEl.classList.remove('colab-df-spinner');\n",
              "      quickchartButtonEl.classList.add('colab-df-quickchart-complete');\n",
              "    }\n",
              "    (() => {\n",
              "      let quickchartButtonEl =\n",
              "        document.querySelector('#df-4b934cc9-8d63-4e1c-a602-66c049901c09 button');\n",
              "      quickchartButtonEl.style.display =\n",
              "        google.colab.kernel.accessAllowed ? 'block' : 'none';\n",
              "    })();\n",
              "  </script>\n",
              "</div>\n",
              "\n",
              "    </div>\n",
              "  </div>\n"
            ],
            "application/vnd.google.colaboratory.intrinsic+json": {
              "type": "dataframe",
              "summary": "{\n  \"name\": \"infra\",\n  \"rows\": 8,\n  \"fields\": [\n    {\n      \"column\": \"id\",\n      \"properties\": {\n        \"dtype\": \"number\",\n        \"std\": 331365.27401753096,\n        \"min\": 1.0,\n        \"max\": 919426.0,\n        \"num_unique_values\": 6,\n        \"samples\": [\n          919426.0,\n          459713.5,\n          689569.75\n        ],\n        \"semantic_type\": \"\",\n        \"description\": \"\"\n      }\n    },\n    {\n      \"column\": \"infracao\",\n      \"properties\": {\n        \"dtype\": \"number\",\n        \"std\": 323026.35445667006,\n        \"min\": 913.65686884304,\n        \"max\": 919426.0,\n        \"num_unique_values\": 8,\n        \"samples\": [\n          6607.1091072038425,\n          7234.0,\n          919426.0\n        ],\n        \"semantic_type\": \"\",\n        \"description\": \"\"\n      }\n    }\n  ]\n}"
            }
          },
          "metadata": {},
          "execution_count": 22
        }
      ]
    },
    {
      "cell_type": "markdown",
      "source": [
        "### Informações\n",
        "\n",
        "Informa se valores há valores nulos, o tipo da célula e o nome das colunas\n"
      ],
      "metadata": {
        "id": "-RQSzkoMrH6k"
      }
    },
    {
      "cell_type": "code",
      "source": [
        "infra.info()"
      ],
      "metadata": {
        "colab": {
          "base_uri": "https://localhost:8080/"
        },
        "id": "PvlQzdxrfubK",
        "outputId": "7bf91d58-24b4-4d4e-e2e0-1eec0a1b4728"
      },
      "execution_count": 23,
      "outputs": [
        {
          "output_type": "stream",
          "name": "stdout",
          "text": [
            "<class 'pandas.core.frame.DataFrame'>\n",
            "RangeIndex: 919426 entries, 0 to 919425\n",
            "Data columns (total 9 columns):\n",
            " #   Column             Non-Null Count   Dtype \n",
            "---  ------             --------------   ----- \n",
            " 0   id                 919426 non-null  int64 \n",
            " 1   datainfracao       919426 non-null  object\n",
            " 2   horainfracao       919426 non-null  object\n",
            " 3   dataimplantacao    919426 non-null  object\n",
            " 4   agenteequipamento  919426 non-null  object\n",
            " 5   infracao           919426 non-null  int64 \n",
            " 6   descricaoinfracao  919426 non-null  object\n",
            " 7   amparolegal        919426 non-null  object\n",
            " 8   localcometimento   919426 non-null  object\n",
            "dtypes: int64(2), object(7)\n",
            "memory usage: 63.1+ MB\n"
          ]
        }
      ]
    },
    {
      "cell_type": "markdown",
      "source": [
        "###Período de análise"
      ],
      "metadata": {
        "id": "ol6xNuTc3dMv"
      }
    },
    {
      "cell_type": "code",
      "source": [
        "primeiro_registro = pd.to_datetime(infra['datainfracao']).dt.date.min()\n",
        "print(\"Primeiro registro: \", primeiro_registro)\n",
        "\n",
        "ultimo_registro = pd.to_datetime(infra['datainfracao']).dt.date.max()\n",
        "print(\"Último registro: \", ultimo_registro)"
      ],
      "metadata": {
        "colab": {
          "base_uri": "https://localhost:8080/"
        },
        "id": "T49K3Om8mZHi",
        "outputId": "f80b9760-e93e-4faa-8fa5-8f1798de0203"
      },
      "execution_count": 24,
      "outputs": [
        {
          "output_type": "stream",
          "name": "stdout",
          "text": [
            "Primeiro registro:  2023-01-01\n",
            "Último registro:  2023-11-30\n"
          ]
        }
      ]
    },
    {
      "cell_type": "markdown",
      "source": [
        "###Descrição de colunas"
      ],
      "metadata": {
        "id": "RhNsk8ZA4bzH"
      }
    },
    {
      "cell_type": "markdown",
      "source": [
        "Data da Infração"
      ],
      "metadata": {
        "id": "hDzp8WWX4hqW"
      }
    },
    {
      "cell_type": "code",
      "source": [
        "print(infra[\"datainfracao\"].describe())"
      ],
      "metadata": {
        "colab": {
          "base_uri": "https://localhost:8080/"
        },
        "id": "VQTXD6wH4hO3",
        "outputId": "38b3a5dd-14d8-4851-88eb-a86b9cd67660"
      },
      "execution_count": 30,
      "outputs": [
        {
          "output_type": "stream",
          "name": "stdout",
          "text": [
            "count                  919426\n",
            "unique                    334\n",
            "top       2023-05-14T00:00:00\n",
            "freq                     4382\n",
            "Name: datainfracao, dtype: object\n"
          ]
        }
      ]
    },
    {
      "cell_type": "markdown",
      "source": [
        "Hora da Infração"
      ],
      "metadata": {
        "id": "ReKePrt65PBe"
      }
    },
    {
      "cell_type": "code",
      "source": [
        "print(infra[\"horainfracao\"].describe())"
      ],
      "metadata": {
        "colab": {
          "base_uri": "https://localhost:8080/"
        },
        "id": "jrwJCquG4Vu3",
        "outputId": "7aed7f32-3979-4261-88ec-28c9a01a9d08"
      },
      "execution_count": 29,
      "outputs": [
        {
          "output_type": "stream",
          "name": "stdout",
          "text": [
            "count       919426\n",
            "unique       56225\n",
            "top       15:00:00\n",
            "freq          1606\n",
            "Name: horainfracao, dtype: object\n"
          ]
        }
      ]
    },
    {
      "cell_type": "markdown",
      "source": [
        "Data de Registro da Infração"
      ],
      "metadata": {
        "id": "U8qPaJQ15eIl"
      }
    },
    {
      "cell_type": "code",
      "source": [
        "print(infra[\"dataimplantacao\"].describe())"
      ],
      "metadata": {
        "colab": {
          "base_uri": "https://localhost:8080/"
        },
        "id": "iWwVHd1c5dYo",
        "outputId": "2078444b-b59f-4f87-c1f2-032d2ca53ce9"
      },
      "execution_count": 31,
      "outputs": [
        {
          "output_type": "stream",
          "name": "stdout",
          "text": [
            "count                  919426\n",
            "unique                    156\n",
            "top       2023-01-24T00:00:00\n",
            "freq                    19504\n",
            "Name: dataimplantacao, dtype: object\n"
          ]
        }
      ]
    },
    {
      "cell_type": "markdown",
      "source": [
        "Forma de autuação"
      ],
      "metadata": {
        "id": "hxufcE4f5uiA"
      }
    },
    {
      "cell_type": "code",
      "source": [
        "print(infra[\"agenteequipamento\"].describe())"
      ],
      "metadata": {
        "colab": {
          "base_uri": "https://localhost:8080/"
        },
        "id": "5wC6554R5oKw",
        "outputId": "4babca03-98f2-416d-e83f-554198b60f68"
      },
      "execution_count": 32,
      "outputs": [
        {
          "output_type": "stream",
          "name": "stdout",
          "text": [
            "count                            919426\n",
            "unique                                6\n",
            "top       Código 3 - LOMBADA ELETRÔNICA\n",
            "freq                             300860\n",
            "Name: agenteequipamento, dtype: object\n"
          ]
        }
      ]
    },
    {
      "cell_type": "markdown",
      "source": [
        "Código da Infração"
      ],
      "metadata": {
        "id": "Obz-Exzq6FrV"
      }
    },
    {
      "cell_type": "code",
      "source": [
        "print(infra[\"infracao\"].describe())"
      ],
      "metadata": {
        "colab": {
          "base_uri": "https://localhost:8080/"
        },
        "id": "vKVa5qjN5tvA",
        "outputId": "90f52bc7-ab8d-443f-e526-17b1f8494a48"
      },
      "execution_count": 33,
      "outputs": [
        {
          "output_type": "stream",
          "name": "stdout",
          "text": [
            "count    919426.000000\n",
            "mean       6607.109107\n",
            "std         913.656869\n",
            "min        5010.000000\n",
            "25%        5550.000000\n",
            "50%        7234.000000\n",
            "75%        7455.000000\n",
            "max        7765.000000\n",
            "Name: infracao, dtype: float64\n"
          ]
        }
      ]
    },
    {
      "cell_type": "markdown",
      "source": [
        "Descrição da Infração"
      ],
      "metadata": {
        "id": "xZv2p3uA6NTV"
      }
    },
    {
      "cell_type": "code",
      "source": [
        "print(infra[\"descricaoinfracao\"].describe())"
      ],
      "metadata": {
        "colab": {
          "base_uri": "https://localhost:8080/"
        },
        "id": "rN_-Gyko6HvN",
        "outputId": "c4612046-8962-4343-819c-1302ab62d492"
      },
      "execution_count": 34,
      "outputs": [
        {
          "output_type": "stream",
          "name": "stdout",
          "text": [
            "count                                                919426\n",
            "unique                                                  255\n",
            "top       Transitar em velocidade superior à máxima perm...\n",
            "freq                                                 269284\n",
            "Name: descricaoinfracao, dtype: object\n"
          ]
        }
      ]
    },
    {
      "cell_type": "markdown",
      "source": [
        "Local da Infração"
      ],
      "metadata": {
        "id": "uE21MFDK6UEr"
      }
    },
    {
      "cell_type": "code",
      "source": [
        "print(infra[\"localcometimento\"].describe())"
      ],
      "metadata": {
        "colab": {
          "base_uri": "https://localhost:8080/"
        },
        "id": "Mh2Be4iF6Wtq",
        "outputId": "d694fb1a-6666-4104-8dcd-40b8bf57cbe6"
      },
      "execution_count": 36,
      "outputs": [
        {
          "output_type": "stream",
          "name": "stdout",
          "text": [
            "count                                              919426\n",
            "unique                                              48237\n",
            "top       CAIS SANTA RITA, PROX. AO N. 675 - SENT. CENTRO\n",
            "freq                                                21916\n",
            "Name: localcometimento, dtype: object\n"
          ]
        }
      ]
    },
    {
      "cell_type": "markdown",
      "source": [
        "Amparo Legal"
      ],
      "metadata": {
        "id": "Aey_VaeU7GF1"
      }
    },
    {
      "cell_type": "code",
      "source": [
        "print(infra[\"amparolegal\"].describe())"
      ],
      "metadata": {
        "colab": {
          "base_uri": "https://localhost:8080/"
        },
        "id": "T5LNqPDR6feT",
        "outputId": "fd4e5025-6150-4a70-b821-80054da68b32"
      },
      "execution_count": 37,
      "outputs": [
        {
          "output_type": "stream",
          "name": "stdout",
          "text": [
            "count               919426\n",
            "unique                 189\n",
            "top       Art. 218, Inc. I\n",
            "freq                269284\n",
            "Name: amparolegal, dtype: object\n"
          ]
        }
      ]
    },
    {
      "cell_type": "markdown",
      "source": [
        "###Verificação de Valores"
      ],
      "metadata": {
        "id": "tMgkaCbi3rYe"
      }
    },
    {
      "cell_type": "markdown",
      "source": [
        "####Procurar por valores não numéricos e nulos"
      ],
      "metadata": {
        "id": "8oaX97KK9d3b"
      }
    },
    {
      "cell_type": "code",
      "source": [
        "print(infra.isna().value_counts())\n"
      ],
      "metadata": {
        "colab": {
          "base_uri": "https://localhost:8080/"
        },
        "id": "kv56gGfnna7u",
        "outputId": "d449cc72-d603-41ea-ef10-c085995612e1"
      },
      "execution_count": null,
      "outputs": [
        {
          "output_type": "stream",
          "name": "stdout",
          "text": [
            "id     datainfracao  horainfracao  dataimplantacao  agenteequipamento  infracao  descricaoinfracao  amparolegal  localcometimento\n",
            "False  False         False         False            False              False     False              False        False               459713\n",
            "Name: count, dtype: int64\n"
          ]
        }
      ]
    },
    {
      "cell_type": "code",
      "source": [
        "print(infra.isnull().value_counts())"
      ],
      "metadata": {
        "colab": {
          "base_uri": "https://localhost:8080/"
        },
        "id": "EtZj7KB0nuWN",
        "outputId": "9b7ff506-83eb-4f97-da92-7f9f7bfca43c"
      },
      "execution_count": null,
      "outputs": [
        {
          "output_type": "stream",
          "name": "stdout",
          "text": [
            "id     datainfracao  horainfracao  dataimplantacao  agenteequipamento  infracao  descricaoinfracao  amparolegal  localcometimento\n",
            "False  False         False         False            False              False     False              False        False               459713\n",
            "Name: count, dtype: int64\n"
          ]
        }
      ]
    },
    {
      "cell_type": "markdown",
      "source": [
        "####Verificando valores errados"
      ],
      "metadata": {
        "id": "wHzl15Ro9kaV"
      }
    },
    {
      "cell_type": "markdown",
      "source": [
        "Verificando valores de amparo legal"
      ],
      "metadata": {
        "id": "MwkUs3MQ_-XH"
      }
    },
    {
      "cell_type": "code",
      "source": [
        "infra['amparolegal'].unique()"
      ],
      "metadata": {
        "colab": {
          "base_uri": "https://localhost:8080/"
        },
        "id": "C1I8lgvi8Z96",
        "outputId": "3c8e8297-8dfb-4f40-bf74-ea1f9df6ceb7"
      },
      "execution_count": 43,
      "outputs": [
        {
          "output_type": "execute_result",
          "data": {
            "text/plain": [
              "array(['Art. 250, Inc. I, alínea a', 'Art. 195', 'Art. 170',\n",
              "       'Art. 181, Inc. XVIII', 'Art. 181, Inc. VIII', 'Art. 185, Inc. I',\n",
              "       'Art. 208', 'Art. 252, §único', 'Art. 167', 'Art. 218, Inc. I',\n",
              "       'Art. 187, Inc. I', 'Art. 218, Inc. II', 'Art. 183',\n",
              "       'Art. 218, Inc. III', 'Art. 207', 'Art. 181, Inc. XVII',\n",
              "       'Art. 181, Inc. IX', 'Art. 178', 'Art. 184, Inc. III',\n",
              "       'Art. 252, Inc. IV', 'Art. 244, X', 'Art. 186, Inc. II',\n",
              "       'Art. 182, Inc. VII', 'Art. 230, Inc. VI', 'Art. 201',\n",
              "       'Art. 182, Inc. X', 'Art. 181, Inc. XIII', 'Art. 181, Inc. XI',\n",
              "       'Art. 196', 'Art. 206, Inc. III', 'Art. 169', 'Art. 252, Inc. VI',\n",
              "       'Art. 181, Inc. XIX', 'Art. 252, Inc. I', 'Art. 252, Inc. V',\n",
              "       'Art. 181, Inc. I', 'ARt. 181, inc. XX', 'Art. 181, inc. XX',\n",
              "       'Art. 193', 'Art. 197', 'Art. 230, Inc. V', 'Art. 162, Inc. V',\n",
              "       'Art. 221', 'Art. 162, Inc. I', 'Art. 244, Inc. I',\n",
              "       'Art. 250, Inc. III', 'Art. 186, Inc. I', 'Art. 230, Inc. XXII',\n",
              "       'Art. 182, Inc. VI', 'Art. 181, Inc. XV', 'Art. 206, Inc. I',\n",
              "       'Art. 162, Inc. VI', 'Art. 210', 'Art. 175', 'Art. 230, Inc. VII',\n",
              "       'Art. 182, XI', 'Art. 230, Inc. XIII', 'Art. 244, XI',\n",
              "       'Art. 185, Inc. II', 'Art. 171', 'Art. 211', 'Art. 244, Inc. II',\n",
              "       'Art. 227, Inc. II', 'Art. 203, Inc. IV', 'Art. 181, Inc. X',\n",
              "       'Art. 230, Inc. I', 'Art. 162, Inc. III', 'Art. 214, Inc. II',\n",
              "       'Art. 164, c/c Art. 162, Inc. I', 'Art. 181, Inc. IV', 'Art. 172',\n",
              "       'Art. 216', 'Art. 230, Inc. XVIII', 'Art. 230, Inc. IV',\n",
              "       'Art. 206, Inc. V', 'Art. 173', 'Art. 194', 'Art. 174',\n",
              "       'Art. 165-A', 'Art. 230, Inc. VIII',\n",
              "       'Art. 163, c/c Art. 162, Inc. V', 'Art.168', 'Art. 220, Inc. XIV',\n",
              "       'Art. 231, Inc. VII', 'Art. 184, Inc. II', 'Art. 206, Inc. II',\n",
              "       'Art. 189', 'Art. 182, Inc. I', 'Art. 162, Inc. II',\n",
              "       'Art. 230, Inc. X', 'Art. 252, Inc. II',\n",
              "       'Art. 215, Inc. I, alínea a', 'Art. 220, Inc. XIII',\n",
              "       'Art. 227, Inc. I', 'Art. 236', 'Art. 209', 'Art. 191',\n",
              "       'Art. 206, Inc. IV', 'Art. 214, Inc. I', 'Art. 180',\n",
              "       'Art. 230, Inc. IX', 'Art. 253', 'Art. 184, Inc. I', 'Art. 232',\n",
              "       'Art. 228', 'Art. 182, Inc. III', 'Art. 229', 'Art. 244, Inc. III',\n",
              "       'Art. 244, Inc. VII', 'Art. 239', 'Art. 230, Inc. II',\n",
              "       'Art. 231, Inc. VIII', 'Art. 238', 'Art. 250, I, b',\n",
              "       'Art. 231, Inc. II, alínea a', 'Art. 182, Inc. II',\n",
              "       'Art. 230, Inc. XVI', 'Art. 278, § único c/c 210',\n",
              "       'Art. 220, Inc. II', 'Art. 250, I, d',\n",
              "       'Art. 163, c/c Art. 162, Inc. I', 'Art. 165', 'Art. 215, Inc. II',\n",
              "       'Art. 164, c/c Art. 162, Inc. V', 'Art. 176, Inc. I',\n",
              "       'Art. 181, Inc. II', 'Art. 235', 'Art. 230, Inc. XI',\n",
              "       'Art. 181, Inc. V', 'Art. 244, Inc. V',\n",
              "       'Art. 164, c/c Art. 162, Inc. III', 'Art. 182, Inc. IX',\n",
              "       'Art. 230, Inc. XII', 'Art. 214, Inc. III', 'Art. 203, Inc. I',\n",
              "       'Art. 205', 'Art. 181, Inc. XII', 'Art. 203, Inc. V',\n",
              "       'Art. 181, Inc. XIV', 'Art. 192', 'Art. 181, Inc. III',\n",
              "       'Art. 244, Inc. III, c/c §1º', 'Art. 214, Inc. V',\n",
              "       'Valores Inválidos', 'Art. 190', 'Art. 244, § 1º, alínea c',\n",
              "       'Art. 220, Inc. I', 'Art.244, Inc. VII, c/c §1º',\n",
              "       'Art. 202, Inc. II', 'Art. 163, c/c Art. 162, Inc. II',\n",
              "       'Art. 164, c/c Art. 162, Inc. VI',\n",
              "       'Art. 164, c/c Art. 162, Inc. II', 'Art. 244, § 1º, alínea a',\n",
              "       'Art. 230, Inc. III', 'Art. 231, Inc. I', 'Art. 176, Inc. IV',\n",
              "       'Art. 244, Inc. VIII', 'Art. 176, Inc. II', 'Art. 176, Inc. III',\n",
              "       'Art. 244 inciso VIII', 'Art. 204', 'Art. 182, Inc. V',\n",
              "       'Art. 215, Inc. I, alínea b', 'Art. 202, Inc. I',\n",
              "       'Art. 227, Inc. III', 'Art. 251, Inc. I', 'Art. 188',\n",
              "       'Art. 214, Inc. IV', 'Art. 182, Inc. VIII', 'Art. 223',\n",
              "       'Art. 244, Inc. VI', 'Art. 182, Inc. IV', 'Art. 220, Inc. IV',\n",
              "       'Art. 199', 'Art. 254, Inc. VI', 'Art. 181, Inc. VII',\n",
              "       'Art. 203, Inc. II', 'Art. 230, Inc. XIX', 'Art. 227, Inc. V',\n",
              "       'Art. 224', 'Art. 253-A, §1º', 'Art. 246', 'Art. 231, Inc. IV',\n",
              "       'Art. 220, Inc. VII', 'Art. 254, Inc. I', 'Art. 225, Inc. I',\n",
              "       'Art. 221, parágrafo único'], dtype=object)"
            ]
          },
          "metadata": {},
          "execution_count": 43
        }
      ]
    },
    {
      "cell_type": "markdown",
      "source": [
        "Corrigindo valores\n"
      ],
      "metadata": {
        "id": "sjV-TVduAS99"
      }
    },
    {
      "cell_type": "code",
      "source": [
        "infra.loc[infra['amparolegal'].str.contains('SENTIDO'), 'amparolegal'] = \"Valores Inválidos\""
      ],
      "metadata": {
        "id": "i8JTEh0z9nj9"
      },
      "execution_count": 42,
      "outputs": []
    }
  ]
}